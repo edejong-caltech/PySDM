{
 "cells": [
  {
   "cell_type": "code",
   "execution_count": 1,
   "metadata": {},
   "outputs": [],
   "source": [
    "import sys, os\n",
    "sys.path.append(os.path.join(os.getcwd(), '../..'))"
   ]
  },
  {
   "cell_type": "code",
   "execution_count": 3,
   "metadata": {},
   "outputs": [],
   "source": [
    "from PySDM.physics import si\n",
    "from PySDM.initialisation.spectral_sampling import ConstantMultiplicity\n",
    "from PySDM.initialisation.spectra import Gaussian\n",
    "from PySDM.physics.formulae import volume"
   ]
  },
  {
   "cell_type": "code",
   "execution_count": 4,
   "metadata": {},
   "outputs": [],
   "source": [
    "n_sd = 2**13\n",
    "initial_spectrum = Gaussian(norm_factor=8.39e12, loc=15 * si.um**3, scale=5 * si.um**3)\n",
    "attributes = {}\n",
    "attributes['volume'], attributes['n'] =\\\n",
    "    ConstantMultiplicity(spectrum=initial_spectrum).sample(n_sd)"
   ]
  },
  {
   "cell_type": "code",
   "execution_count": 43,
   "metadata": {},
   "outputs": [
    {
     "data": {
      "text/plain": [
       "<matplotlib.legend.Legend at 0x7f545be642b0>"
      ]
     },
     "execution_count": 43,
     "metadata": {},
     "output_type": "execute_result"
    },
    {
     "data": {
      "image/png": "[encoded data removed]",
      "text/plain": [
       "<Figure size 432x288 with 1 Axes>"
      ]
     },
     "metadata": {
      "needs_background": "light"
     },
     "output_type": "display_data"
    }
   ],
   "source": [
    "from PySDM import Builder\n",
    "from PySDM.environments import Box\n",
    "from PySDM.dynamics import Coalescence\n",
    "from PySDM.dynamics.coalescence.kernels import ConstKern\n",
    "from PySDM.backends import CPU\n",
    "from PySDM.products.state import ParticlesNumberVolumeSpectrum\n",
    "\n",
    "builder = Builder(n_sd=n_sd, backend=CPU)\n",
    "builder.set_environment(Box(dt=1 * si.s, dv=1e6 * si.m**3))\n",
    "builder.add_dynamic(Coalescence(kernel=ConstKern(kernel_const = 0.005 / si.s)))\n",
    "products = [ParticlesNumberVolumeSpectrum()]\n",
    "particles = builder.build(attributes, products)\n",
    "\n",
    "from PySDM.physics.constants import rho_w\n",
    "from matplotlib import pyplot\n",
    "import numpy as np\n",
    "\n",
    "v_bins_edges = np.logspace(np.log10(1 * si.um**3), np.log10(200 * si.um**3), num=256)\n",
    "\n",
    "for step in [0, 1, 2]:\n",
    "    particles.run(step - particles.n_steps)\n",
    "    pyplot.step(x=v_bins_edges[:-1] / si.um**3,\n",
    "                y=particles.products['N(v)'].get(v_bins_edges),\n",
    "                where='post', label=f\"t = {step}s\")\n",
    "                \n",
    "#pyplot.xscale('log')\n",
    "pyplot.xlabel('mass or volume')\n",
    "pyplot.ylabel(\"N\")\n",
    "pyplot.legend()"
   ]
  }
 ],
 "metadata": {
  "kernelspec": {
   "display_name": "Python 3",
   "language": "python",
   "name": "python3"
  },
  "language_info": {
   "codemirror_mode": {
    "name": "ipython",
    "version": 3
   },
   "file_extension": ".py",
   "mimetype": "text/x-python",
   "name": "python",
   "nbconvert_exporter": "python",
   "pygments_lexer": "ipython3",
   "version": "3.8.5"
  }
 },
 "nbformat": 4,
 "nbformat_minor": 4
}
