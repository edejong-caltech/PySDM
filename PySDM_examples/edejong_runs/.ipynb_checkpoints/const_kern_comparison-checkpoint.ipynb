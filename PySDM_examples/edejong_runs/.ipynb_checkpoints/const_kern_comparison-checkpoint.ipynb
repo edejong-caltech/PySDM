{
 "cells": [
  {
   "cell_type": "code",
   "execution_count": 1,
   "metadata": {},
   "outputs": [],
   "source": [
    "import sys, os\n",
    "sys.path.append(os.path.join(os.getcwd(), '../..'))"
   ]
  },
  {
   "cell_type": "code",
   "execution_count": 2,
   "metadata": {},
   "outputs": [
    {
     "name": "stderr",
     "output_type": "stream",
     "text": [
      "/home/edejong/.conda/envs/edjPySDM/lib/python3.8/site-packages/numba/np/ufunc/parallel.py:355: NumbaWarning: \u001b[1mThe TBB threading layer requires TBB version 2019.5 or later i.e., TBB_INTERFACE_VERSION >= 11005. Found TBB_INTERFACE_VERSION = 6103. The TBB threading layer is disabled.\u001b[0m\n",
      "  warnings.warn(problem)\n"
     ]
    }
   ],
   "source": [
    "from PySDM.physics import si\n",
    "from PySDM.initialisation.spectral_sampling import ConstantMultiplicity\n",
    "from PySDM.initialisation.spectra import Gaussian\n",
    "from PySDM.physics.formulae import volume"
   ]
  },
  {
   "cell_type": "markdown",
   "metadata": {},
   "source": [
    "# 1. Constant Kernel"
   ]
  },
  {
   "cell_type": "code",
   "execution_count": 3,
   "metadata": {},
   "outputs": [],
   "source": [
    "n_sd = 2**13\n",
    "initial_spectrum = Gaussian(norm_factor=8.39e12, loc=15 * si.um**3, scale=5 * si.um**3)\n",
    "attributes = {}\n",
    "attributes['volume'], attributes['n'] =\\\n",
    "    ConstantMultiplicity(spectrum=initial_spectrum).sample(n_sd)"
   ]
  },
  {
   "cell_type": "code",
   "execution_count": 4,
   "metadata": {},
   "outputs": [
    {
     "data": {
      "text/plain": [
       "<matplotlib.legend.Legend at 0x7fcf60272ca0>"
      ]
     },
     "execution_count": 4,
     "metadata": {},
     "output_type": "execute_result"
    },
    {
     "data": {
      "image/png": "[encoded data removed]",
      "text/plain": [
       "<Figure size 432x288 with 1 Axes>"
      ]
     },
     "metadata": {
      "needs_background": "light"
     },
     "output_type": "display_data"
    }
   ],
   "source": [
    "from PySDM import Builder\n",
    "from PySDM.environments import Box\n",
    "from PySDM.dynamics import Coalescence\n",
    "from PySDM.dynamics.coalescence.kernels import ConstKern\n",
    "from PySDM.backends import CPU\n",
    "from PySDM.products.state import ParticlesNumberVolumeSpectrum\n",
    "\n",
    "builder = Builder(n_sd=n_sd, backend=CPU)\n",
    "builder.set_environment(Box(dt=1 * si.s, dv=1e6 * si.m**3))\n",
    "builder.add_dynamic(Coalescence(kernel=ConstKern(kernel_const = 0.005 / si.s)))\n",
    "products = [ParticlesNumberVolumeSpectrum()]\n",
    "particles = builder.build(attributes, products)\n",
    "\n",
    "from PySDM.physics.constants import rho_w\n",
    "from matplotlib import pyplot\n",
    "import numpy as np\n",
    "\n",
    "v_bins_edges = np.logspace(np.log10(1 * si.um**3), np.log10(200 * si.um**3), num=256)\n",
    "\n",
    "for step in [0, 1, 2]:\n",
    "    particles.run(step - particles.n_steps)\n",
    "    pyplot.step(x=v_bins_edges[:-1] / si.um**3,\n",
    "                y=particles.products['N(v)'].get(v_bins_edges),\n",
    "                where='post', label=f\"t = {step}s\")\n",
    "                \n",
    "#pyplot.xscale('log')\n",
    "pyplot.xlabel('mass or volume')\n",
    "pyplot.ylabel(\"N\")\n",
    "pyplot.legend()"
   ]
  },
  {
   "cell_type": "markdown",
   "metadata": {},
   "source": [
    "## Postprocessing and outputs"
   ]
  },
  {
   "cell_type": "code",
   "execution_count": 5,
   "metadata": {},
   "outputs": [
    {
     "name": "stdout",
     "output_type": "stream",
     "text": [
      "8222199996416.0\n",
      "4111099998208.0\n",
      "2055550000127.0\n"
     ]
    }
   ],
   "source": [
    "# Save and print the moments, for example\n",
    "from PySDM.products.state import KthMoment\n",
    "\n",
    "builder = Builder(n_sd=n_sd, backend=CPU)\n",
    "builder.set_environment(Box(dt=1 * si.s, dv=1e6 * si.m**3))\n",
    "builder.add_dynamic(Coalescence(kernel=ConstKern(kernel_const = 0.005 / si.s)))\n",
    "products = [KthMoment()]\n",
    "particles = builder.build(attributes, products)\n",
    "\n",
    "k = 0\n",
    "for step in [0, 1, 2]:\n",
    "    particles.run(step - particles.n_steps)\n",
    "    print(particles.products['Mk'].get(k))"
   ]
  },
  {
   "cell_type": "code",
   "execution_count": 6,
   "metadata": {},
   "outputs": [
    {
     "name": "stdout",
     "output_type": "stream",
     "text": [
      "[8.22220000e+12 1.50000000e-17 2.46836619e-34 4.35764788e-51]\n",
      "[4.11110000e+12 3.00000000e-17 9.44969141e-34 3.10492928e-50]\n",
      "[2.05555000e+12 6.00000000e-17 3.69107447e-33 2.32397418e-49]\n"
     ]
    }
   ],
   "source": [
    "# Save and print the moments, for example\n",
    "from PySDM.products.state import KMoments\n",
    "\n",
    "builder = Builder(n_sd=n_sd, backend=CPU)\n",
    "builder.set_environment(Box(dt=1 * si.s, dv=1e6 * si.m**3))\n",
    "builder.add_dynamic(Coalescence(kernel=ConstKern(kernel_const = 0.005 / si.s)))\n",
    "products = [KMoments()]\n",
    "particles = builder.build(attributes, products)\n",
    "\n",
    "k = 4\n",
    "for step in [0, 1, 2]:\n",
    "    particles.run(step - particles.n_steps)\n",
    "    print(particles.products['M0-Mk'].get(k))"
   ]
  },
  {
   "cell_type": "code",
   "execution_count": 13,
   "metadata": {},
   "outputs": [
    {
     "data": {
      "text/plain": [
       "array([], dtype=float64)"
      ]
     },
     "execution_count": 13,
     "metadata": {},
     "output_type": "execute_result"
    }
   ],
   "source": [
    "vals"
   ]
  },
  {
   "cell_type": "code",
   "execution_count": null,
   "metadata": {},
   "outputs": [],
   "source": []
  }
 ],
 "metadata": {
  "kernelspec": {
   "display_name": "Python 3",
   "language": "python",
   "name": "python3"
  },
  "language_info": {
   "codemirror_mode": {
    "name": "ipython",
    "version": 3
   },
   "file_extension": ".py",
   "mimetype": "text/x-python",
   "name": "python",
   "nbconvert_exporter": "python",
   "pygments_lexer": "ipython3",
   "version": "3.8.5"
  }
 },
 "nbformat": 4,
 "nbformat_minor": 4
}
