{
 "cells": [
  {
   "cell_type": "code",
   "execution_count": 1,
   "metadata": {},
   "outputs": [],
   "source": [
    "\"\"\"\n",
    "clone and install PySDM dependencies in Colab\n",
    "(to use GPU on Colab set hardware accelerator to 'GPU' before session start\n",
    "in the \"Runtime :: Change runtime type :: Hardware accelerator\" menu)\n",
    "\"\"\"\n",
    "import os, sys\n",
    "if 'google.colab' in sys.modules:\n",
    "    %cd /content\n",
    "    if not os.path.isdir('PySDM'):\n",
    "        !git clone --depth 1 https://github.com/atmos-cloud-sim-uj/PySDM.git\n",
    "    %cd PySDM\n",
    "    !pip install -r requirements.txt"
   ]
  },
  {
   "cell_type": "code",
   "execution_count": null,
   "metadata": {
    "pycharm": {
     "name": "#%%\n"
    }
   },
   "outputs": [],
   "source": [
    "import os, sys\n",
    "if 'google.colab' in sys.modules:\n",
    "    %cd /content/PySDM\n",
    "else:\n",
    "    sys.path.insert(0, os.path.join(os.getcwd(), '../..'))"
   ]
  },
  {
   "cell_type": "code",
   "execution_count": 2,
   "metadata": {},
   "outputs": [],
   "source": [
    "from numpy import errstate\n",
    "from PySDM.backends import CPU, GPU\n",
    "from PySDM_examples.Shima_et_al_2009_Fig_2.spectrum_plotter import SpectrumPlotter\n",
    "from PySDM_examples.Shima_et_al_2009_Fig_2.setup import SetupA\n",
    "from PySDM_examples.Shima_et_al_2009_Fig_2.example import run\n",
    "import ipywidgets as widgets"
   ]
  },
  {
   "cell_type": "code",
   "execution_count": 3,
   "metadata": {},
   "outputs": [],
   "source": [
    "progbar = widgets.IntProgress(min=0, max=100, description='%')\n",
    "class ProgbarUpdater:\n",
    "    def __init__(self, progbar, max_steps):\n",
    "        self.max_steps = max_steps\n",
    "        self.steps = 0\n",
    "        self.progbar = progbar\n",
    "\n",
    "    def notify(self):\n",
    "        self.steps += 1\n",
    "        self.progbar.value = 100 * (self.steps / self.max_steps)"
   ]
  },
  {
   "cell_type": "code",
   "execution_count": 4,
   "metadata": {},
   "outputs": [],
   "source": [
    "def demo(*, n_SD, n_step, n_plot, adaptive, smooth, gpu):\n",
    "    with errstate(all='raise'):\n",
    "        setup = SetupA()\n",
    "        setup.backend = GPU if gpu else CPU\n",
    "        setup.n_sd = 2 ** n_SD\n",
    "        setup.adaptive = adaptive\n",
    "        setup.dt = 10 if adaptive else setup.dt\n",
    "        setup._steps = [i * (n_step // n_plot) for i in range(n_plot + 1)]\n",
    "        \n",
    "        states, _ = run(setup, (ProgbarUpdater(progbar, setup.steps[-1]),))\n",
    "    \n",
    "    with errstate(invalid='ignore'):\n",
    "        plotter = SpectrumPlotter(setup)\n",
    "        plotter.smooth = smooth\n",
    "        for step, state in states.items():\n",
    "            plotter.plot(state, step * setup.dt)\n",
    "        plotter.show()"
   ]
  },
  {
   "cell_type": "code",
   "execution_count": null,
   "metadata": {
    "pycharm": {
     "is_executing": true
    },
    "scrolled": false
   },
   "outputs": [],
   "source": [
    "n_SD = widgets.IntSlider(value=14, min=12, max=18, step=1, description='$log_2(n_{SD})$', continuous_update=False)\n",
    "n_step = widgets.IntSlider(value=3600, step=100, min=0, max=3600, description='$n_{step}$', continuous_update=False)\n",
    "n_plot = widgets.IntSlider(value=3, step=1, min=1, max=8, description='$n_{plot}$', continuous_update=False)\n",
    "sliders = widgets.HBox([n_SD, n_step, n_plot])\n",
    "\n",
    "adaptive = widgets.Checkbox(value=False, description='adaptive dt')\n",
    "smooth = widgets.Checkbox(value=True, description='smooth plot')\n",
    "gpu = widgets.Checkbox(value=False, description='GPU')\n",
    "options = [adaptive, smooth]\n",
    "if GPU.ENABLE:\n",
    "    options.append(gpu)\n",
    "boxes = widgets.HBox(options)\n",
    "# TODO: freezer\n",
    "self = widgets.interactive_output(demo, \n",
    "                                  {'n_SD': n_SD, 'n_step': n_step, 'n_plot': n_plot, 'adaptive': adaptive, 'smooth': smooth, 'gpu': gpu})\n",
    "\n",
    "display(sliders, boxes, progbar, self)"
   ]
  },
  {
   "cell_type": "code",
   "execution_count": null,
   "metadata": {
    "pycharm": {
     "is_executing": true
    }
   },
   "outputs": [],
   "source": []
  },
  {
   "cell_type": "code",
   "execution_count": null,
   "metadata": {
    "pycharm": {
     "is_executing": true
    }
   },
   "outputs": [],
   "source": []
  }
 ],
 "metadata": {
  "kernelspec": {
   "display_name": "Python 3",
   "language": "python",
   "name": "python3"
  },
  "language_info": {
   "codemirror_mode": {
    "name": "ipython",
    "version": 3
   },
   "file_extension": ".py",
   "mimetype": "text/x-python",
   "name": "python",
   "nbconvert_exporter": "python",
   "pygments_lexer": "ipython3",
   "version": "3.8.5"
  }
 },
 "nbformat": 4,
 "nbformat_minor": 4
}
