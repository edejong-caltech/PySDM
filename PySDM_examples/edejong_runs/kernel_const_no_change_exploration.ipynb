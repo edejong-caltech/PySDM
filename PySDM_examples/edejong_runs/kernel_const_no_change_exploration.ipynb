{
 "cells": [
  {
   "cell_type": "code",
   "execution_count": 1,
   "metadata": {},
   "outputs": [
    {
     "name": "stderr",
     "output_type": "stream",
     "text": [
      "/home/edejong/.conda/envs/edjPySDM/lib/python3.8/site-packages/numba/np/ufunc/parallel.py:355: NumbaWarning: \u001b[1mThe TBB threading layer requires TBB version 2019.5 or later i.e., TBB_INTERFACE_VERSION >= 11005. Found TBB_INTERFACE_VERSION = 6103. The TBB threading layer is disabled.\u001b[0m\n",
      "  warnings.warn(problem)\n"
     ]
    }
   ],
   "source": [
    "import sys, os\n",
    "sys.path.append(os.path.join(os.getcwd(), '../..'))\n",
    "\n",
    "from PySDM.physics import si\n",
    "from PySDM.initialisation.spectral_sampling import ConstantMultiplicity\n",
    "from PySDM.initialisation.spectra import Exponential, Gaussian\n",
    "from PySDM.physics.formulae import volume"
   ]
  },
  {
   "cell_type": "markdown",
   "metadata": {},
   "source": [
    "## Constant kernel"
   ]
  },
  {
   "cell_type": "code",
   "execution_count": 2,
   "metadata": {},
   "outputs": [
    {
     "data": {
      "text/plain": [
       "<matplotlib.legend.Legend at 0x7f9f9c357c40>"
      ]
     },
     "execution_count": 2,
     "metadata": {},
     "output_type": "execute_result"
    },
    {
     "data": {
      "image/png": "[encoded data removed]",
      "text/plain": [
       "<Figure size 432x288 with 1 Axes>"
      ]
     },
     "metadata": {
      "needs_background": "light"
     },
     "output_type": "display_data"
    }
   ],
   "source": [
    "a = 0.01 / si.s\n",
    "\n",
    "n_sd = 2**17\n",
    "initial_spectrum = Gaussian(norm_factor=8.39e12, loc=15, scale=5)\n",
    "attributes = {}\n",
    "attributes['volume'], attributes['n'] =\\\n",
    "    ConstantMultiplicity(spectrum=initial_spectrum).sample(n_sd)\n",
    "\n",
    "from PySDM import Builder\n",
    "from PySDM.environments import Box\n",
    "from PySDM.dynamics import Coalescence\n",
    "from PySDM.dynamics.coalescence.kernels import ConstKern\n",
    "from PySDM.backends import CPU\n",
    "from PySDM.products.state import ParticlesVolumeSpectrum, ParticlesNumberVolumeSpectrum\n",
    "\n",
    "builder = Builder(n_sd=n_sd, backend=CPU)\n",
    "builder.set_environment(Box(dt=1 * si.s, dv=1))\n",
    "builder.add_dynamic(Coalescence(kernel=ConstKern(kernel_const = a)))\n",
    "products = [ParticlesVolumeSpectrum(), ParticlesNumberVolumeSpectrum()]\n",
    "particles = builder.build(attributes, products)\n",
    "\n",
    "from matplotlib import pyplot\n",
    "import numpy as np\n",
    "\n",
    "v_bins_edges = np.linspace((1), (200), num=256)\n",
    "r_bins_edges = v_bins_edges**(1/3)\n",
    "\n",
    "for step in [0, 1, 2]:\n",
    "    particles.run(step - particles.n_steps)\n",
    "    #pyplot.step(x=r_bins_edges[:-1] ,\n",
    "    #            y=particles.products['dv/dlnr'].get(r_bins_edges),\n",
    "    #            where='post', label=f\"t = {step}s\")\n",
    "    pyplot.step(x=v_bins_edges[:-1] ,\n",
    "                y=particles.products['N(v)'].get(v_bins_edges),\n",
    "                where='post', label=f\"t = {step}s\")\n",
    "                \n",
    "#pyplot.xscale('log')\n",
    "pyplot.xlabel('v')\n",
    "pyplot.ylabel(\"N(v)\")\n",
    "pyplot.legend()"
   ]
  },
  {
   "cell_type": "markdown",
   "metadata": {},
   "source": [
    "## Golovin Kernel\n",
    "\n",
    "First set the kernel constant (collisions per second per particle volume) to some number"
   ]
  },
  {
   "cell_type": "code",
   "execution_count": 5,
   "metadata": {},
   "outputs": [
    {
     "data": {
      "text/plain": [
       "<matplotlib.legend.Legend at 0x7fe5dfcc8130>"
      ]
     },
     "execution_count": 5,
     "metadata": {},
     "output_type": "execute_result"
    },
    {
     "data": {
      "image/png": "[encoded data removed]",
      "text/plain": [
       "<Figure size 432x288 with 1 Axes>"
      ]
     },
     "metadata": {
      "needs_background": "light"
     },
     "output_type": "display_data"
    }
   ],
   "source": [
    "golovin_const = 1e4 / si.s\n",
    "\n",
    "n_sd = 2**17\n",
    "initial_spectrum = Gaussian(norm_factor=8.39e12, loc=15, scale=5)\n",
    "attributes = {}\n",
    "attributes['volume'], attributes['n'] =\\\n",
    "    ConstantMultiplicity(spectrum=initial_spectrum).sample(n_sd)\n",
    "\n",
    "from PySDM import Builder\n",
    "from PySDM.environments import Box\n",
    "from PySDM.dynamics import Coalescence\n",
    "from PySDM.dynamics.coalescence.kernels import Golovin\n",
    "from PySDM.backends import CPU\n",
    "from PySDM.products.state import ParticlesVolumeSpectrum, ParticlesNumberVolumeSpectrum\n",
    "\n",
    "builder = Builder(n_sd=n_sd, backend=CPU)\n",
    "builder.set_environment(Box(dt=1 * si.s, dv=1))\n",
    "builder.add_dynamic(Coalescence(kernel=Golovin(b = golovin_const)))\n",
    "products = [ParticlesVolumeSpectrum(), ParticlesNumberVolumeSpectrum()]\n",
    "particles = builder.build(attributes, products)\n",
    "\n",
    "from matplotlib import pyplot\n",
    "import numpy as np\n",
    "\n",
    "v_bins_edges = np.linspace((1), (100), num=256)\n",
    "r_bins_edges = v_bins_edges**(1/3)\n",
    "\n",
    "for step in [0, 1, 2]:\n",
    "    particles.run(step - particles.n_steps)\n",
    "    #pyplot.step(x=r_bins_edges[:-1] / si.um,\n",
    "    #            y=particles.products['dv/dlnr'].get(r_bins_edges),\n",
    "    #            where='post', label=f\"t = {step}s\")\n",
    "    pyplot.step(x=v_bins_edges[:-1],\n",
    "                y=particles.products['N(v)'].get(v_bins_edges),\n",
    "                where='post', label=f\"t = {step}s\")\n",
    "                \n",
    "#pyplot.xscale('log')\n",
    "pyplot.xlabel('v')\n",
    "pyplot.ylabel(\"N(v)\")\n",
    "pyplot.legend()"
   ]
  },
  {
   "cell_type": "markdown",
   "metadata": {},
   "source": [
    "Now try changing the time step\n",
    "environment(dt=...)"
   ]
  },
  {
   "cell_type": "code",
   "execution_count": 7,
   "metadata": {},
   "outputs": [
    {
     "data": {
      "text/plain": [
       "<matplotlib.legend.Legend at 0x7fe5e004c310>"
      ]
     },
     "execution_count": 7,
     "metadata": {},
     "output_type": "execute_result"
    },
    {
     "data": {
      "image/png": "[encoded data removed]",
      "text/plain": [
       "<Figure size 432x288 with 1 Axes>"
      ]
     },
     "metadata": {
      "needs_background": "light"
     },
     "output_type": "display_data"
    }
   ],
   "source": [
    "golovin_const = 1e3 / si.s\n",
    "\n",
    "n_sd = 2**17\n",
    "initial_spectrum = Gaussian(norm_factor=8.39e12, loc=15, scale=5)\n",
    "attributes = {}\n",
    "attributes['volume'], attributes['n'] =\\\n",
    "    ConstantMultiplicity(spectrum=initial_spectrum).sample(n_sd)\n",
    "\n",
    "from PySDM import Builder\n",
    "from PySDM.environments import Box\n",
    "from PySDM.dynamics import Coalescence\n",
    "from PySDM.dynamics.coalescence.kernels import Golovin\n",
    "from PySDM.backends import CPU\n",
    "from PySDM.products.state import ParticlesVolumeSpectrum, ParticlesNumberVolumeSpectrum\n",
    "\n",
    "builder = Builder(n_sd=n_sd, backend=CPU)\n",
    "builder.set_environment(Box(dt=0.1 * si.s, dv=1))\n",
    "builder.add_dynamic(Coalescence(kernel=Golovin(b = golovin_const)))\n",
    "products = [ParticlesVolumeSpectrum(), ParticlesNumberVolumeSpectrum()]\n",
    "particles = builder.build(attributes, products)\n",
    "\n",
    "from matplotlib import pyplot\n",
    "import numpy as np\n",
    "\n",
    "v_bins_edges = np.linspace((1), (100), num=256)\n",
    "r_bins_edges = v_bins_edges**(1/3)\n",
    "\n",
    "for step in [0, 1, 2]:\n",
    "    particles.run(step - particles.n_steps)\n",
    "    #pyplot.step(x=r_bins_edges[:-1] / si.um,\n",
    "    #            y=particles.products['dv/dlnr'].get(r_bins_edges),\n",
    "    #            where='post', label=f\"t = {step}s\")\n",
    "    pyplot.step(x=v_bins_edges[:-1],\n",
    "                y=particles.products['N(v)'].get(v_bins_edges),\n",
    "                where='post', label=f\"t = {step}s\")\n",
    "                \n",
    "#pyplot.xscale('log')\n",
    "pyplot.xlabel('v')\n",
    "pyplot.ylabel(\"N(v)\")\n",
    "pyplot.legend()"
   ]
  },
  {
   "cell_type": "markdown",
   "metadata": {},
   "source": [
    "Now change the time step and also scale the steps accordingly"
   ]
  },
  {
   "cell_type": "code",
   "execution_count": 8,
   "metadata": {},
   "outputs": [
    {
     "name": "stdout",
     "output_type": "stream",
     "text": [
      "8222200037376.0\n",
      "122518.0\n"
     ]
    },
    {
     "data": {
      "text/plain": [
       "<matplotlib.legend.Legend at 0x7f9f9bd2b400>"
      ]
     },
     "execution_count": 8,
     "metadata": {},
     "output_type": "execute_result"
    },
    {
     "data": {
      "image/png": "[encoded data removed]",
      "text/plain": [
       "<Figure size 432x288 with 1 Axes>"
      ]
     },
     "metadata": {
      "needs_background": "light"
     },
     "output_type": "display_data"
    }
   ],
   "source": [
    "golovin_const = 0.01 / si.s\n",
    "\n",
    "n_sd = 2**17\n",
    "initial_spectrum = Gaussian(norm_factor=8.39e12, loc=15, scale=5)\n",
    "attributes = {}\n",
    "attributes['volume'], attributes['n'] =\\\n",
    "    ConstantMultiplicity(spectrum=initial_spectrum).sample(n_sd)\n",
    "\n",
    "from PySDM import Builder\n",
    "from PySDM.environments import Box\n",
    "from PySDM.dynamics import Coalescence\n",
    "from PySDM.dynamics.coalescence.kernels import Golovin\n",
    "from PySDM.backends import CPU\n",
    "from PySDM.products.state import ParticlesVolumeSpectrum, ParticlesNumberVolumeSpectrum\n",
    "\n",
    "builder = Builder(n_sd=n_sd, backend=CPU)\n",
    "builder.set_environment(Box(dt=0.1 * si.s, dv=1))\n",
    "builder.add_dynamic(Coalescence(kernel=Golovin(b = golovin_const)))\n",
    "products = [ParticlesVolumeSpectrum(), ParticlesNumberVolumeSpectrum()]\n",
    "particles = builder.build(attributes, products)\n",
    "\n",
    "from matplotlib import pyplot\n",
    "import numpy as np\n",
    "\n",
    "v_bins_edges = np.linspace((1), (500), num=1024)\n",
    "r_bins_edges = v_bins_edges**(1/3)\n",
    "\n",
    "for step in [0, 10]:\n",
    "    particles.run(step - particles.n_steps)\n",
    "    #pyplot.step(x=r_bins_edges[:-1] / si.um,\n",
    "    #            y=particles.products['dv/dlnr'].get(r_bins_edges),\n",
    "    #            where='post', label=f\"t = {step}s\")\n",
    "    print(sum(particles.products['N(v)'].get(v_bins_edges)))\n",
    "    pyplot.step(x=v_bins_edges[:-1],\n",
    "                y=particles.products['N(v)'].get(v_bins_edges)/sum(particles.products['N(v)'].get(v_bins_edges)),\n",
    "                where='post', label=f\"t = {step*0.1}s\")\n",
    "                \n",
    "#pyplot.xscale('log')\n",
    "pyplot.xlabel('v')\n",
    "pyplot.ylabel(\"N(v)\")\n",
    "pyplot.legend()"
   ]
  },
  {
   "cell_type": "markdown",
   "metadata": {},
   "source": [
    "## Aha! Now we're getting somewhere"
   ]
  },
  {
   "cell_type": "code",
   "execution_count": null,
   "metadata": {},
   "outputs": [],
   "source": []
  }
 ],
 "metadata": {
  "kernelspec": {
   "display_name": "Python 3",
   "language": "python",
   "name": "python3"
  },
  "language_info": {
   "codemirror_mode": {
    "name": "ipython",
    "version": 3
   },
   "file_extension": ".py",
   "mimetype": "text/x-python",
   "name": "python",
   "nbconvert_exporter": "python",
   "pygments_lexer": "ipython3",
   "version": "3.8.5"
  }
 },
 "nbformat": 4,
 "nbformat_minor": 4
}
