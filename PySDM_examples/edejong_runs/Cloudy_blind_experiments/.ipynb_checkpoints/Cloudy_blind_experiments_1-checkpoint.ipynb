{
 "cells": [
  {
   "cell_type": "code",
   "execution_count": 2,
   "metadata": {},
   "outputs": [
    {
     "name": "stderr",
     "output_type": "stream",
     "text": [
      "/home/edejong/.conda/envs/edjPySDM/lib/python3.8/site-packages/numba/np/ufunc/parallel.py:355: NumbaWarning: \u001b[1mThe TBB threading layer requires TBB version 2019.5 or later i.e., TBB_INTERFACE_VERSION >= 11005. Found TBB_INTERFACE_VERSION = 6103. The TBB threading layer is disabled.\u001b[0m\n",
      "  warnings.warn(problem)\n"
     ]
    }
   ],
   "source": [
    "import sys, os\n",
    "sys.path.append(os.path.join(os.getcwd(), '../../..'))\n",
    "\n",
    "from PySDM.physics import si\n",
    "from PySDM.physics.formulae import volume\n",
    "import numpy as np\n",
    "from matplotlib import pyplot"
   ]
  },
  {
   "cell_type": "markdown",
   "metadata": {},
   "source": [
    "# 1. Gamma distribution, constant kernel"
   ]
  },
  {
   "cell_type": "markdown",
   "metadata": {},
   "source": [
    "Gamma distribution with N=1e7, k=3.2, theta=1.7;\n",
    "\n",
    "Constant kernel = 9.26e-7;\n",
    "\n",
    "Simulation time = 1 (1000 time steps)"
   ]
  },
  {
   "cell_type": "code",
   "execution_count": 36,
   "metadata": {},
   "outputs": [],
   "source": [
    "# Set desired constants\n",
    "K      = 9.2e-7        # Kernel constant\n",
    "dt_sim = 1e-3          # time step\n",
    "T_sim  = 1             # total time of simulation\n",
    "n_sd   = 2**14         # number of superdroplets\n",
    "N0     = 1e7           # total number of droplets\n",
    "end_step = int(T_sim / dt_sim)\n",
    "k_shape = 3.2\n",
    "theta_scale = 1.7\n",
    "\n",
    "from PySDM.initialisation.spectra import Gamma\n",
    "from PySDM.initialisation.spectral_sampling import ConstantMultiplicity\n",
    "\n",
    "# initial distribution\n",
    "initial_spectrum = Gamma(norm_factor=N0, k=k_shape, theta=theta_scale)\n",
    "attributes = {}\n",
    "attributes['volume'], attributes['n'] =\\\n",
    "    ConstantMultiplicity(spectrum=initial_spectrum).sample(n_sd)\n",
    "\n",
    "from PySDM import Builder\n",
    "from PySDM.environments import Box\n",
    "from PySDM.dynamics import Coalescence\n",
    "from PySDM.dynamics.coalescence.kernels import ConstKern\n",
    "from PySDM.backends import CPU\n",
    "from PySDM.products.state import ParticlesNumberVolumeSpectrum, KMoments, KthMoment"
   ]
  },
  {
   "cell_type": "markdown",
   "metadata": {},
   "source": [
    "Let's see an example of what the distributions will look like:"
   ]
  },
  {
   "cell_type": "code",
   "execution_count": 37,
   "metadata": {},
   "outputs": [
    {
     "data": {
      "text/plain": [
       "Text(0.5, 1.0, 'initial distribution')"
      ]
     },
     "execution_count": 37,
     "metadata": {},
     "output_type": "execute_result"
    },
    {
     "data": {
      "image/png": "[encoded data removed]",
      "text/plain": [
       "<Figure size 432x288 with 1 Axes>"
      ]
     },
     "metadata": {
      "needs_background": "light"
     },
     "output_type": "display_data"
    }
   ],
   "source": [
    "# build the superdroplets\n",
    "builder = Builder(n_sd=n_sd, backend=CPU)\n",
    "builder.set_environment(Box(dt=dt_sim, dv=1))\n",
    "builder.add_dynamic(Coalescence(kernel=ConstKern(kernel_const = K)))\n",
    "products = [ParticlesNumberVolumeSpectrum(), KMoments(), KthMoment()]\n",
    "particles = builder.build(attributes, products)\n",
    "\n",
    "# plot initial distribution\n",
    "v_bins_edges = np.linspace((1), (50), num=100)\n",
    "\n",
    "for step in [0, int(end_step/2), end_step]:\n",
    "    particles.run(step - particles.n_steps)\n",
    "    pyplot.step(x=v_bins_edges[:-1],\n",
    "                y=particles.products['N(v)'].get(v_bins_edges)/particles.products['Mk'].get(0),\n",
    "                where='post', label=f\"t = {step*dt_sim}s\")\n",
    "\n",
    "pyplot.xlabel('mass or volume')\n",
    "pyplot.ylabel(\"N\")\n",
    "pyplot.legend()\n",
    "pyplot.title(\"initial distribution\")"
   ]
  },
  {
   "cell_type": "markdown",
   "metadata": {},
   "source": [
    "Run the dynamics as prescribed, several times, and output the final distributions and moments"
   ]
  },
  {
   "cell_type": "code",
   "execution_count": 43,
   "metadata": {},
   "outputs": [],
   "source": [
    "N_runs = 10\n",
    "k_mom = 3\n",
    "\n",
    "#[[initial moments 1, final moments 1],\n",
    "#  initial moments 2, final moments 2], ...]\n",
    "\n",
    "moments = np.zeros((N_runs, k_mom*2))\n",
    "\n",
    "for run_num in range(N_runs):\n",
    "    # reinitialize the SD\n",
    "    builder = Builder(n_sd=n_sd, backend=CPU)\n",
    "    builder.set_environment(Box(dt=dt_sim, dv=1))\n",
    "    builder.add_dynamic(Coalescence(kernel=ConstKern(kernel_const = K)))\n",
    "    products = [ParticlesNumberVolumeSpectrum(), KMoments()]\n",
    "    particles = builder.build(attributes, products)\n",
    "    \n",
    "    # add the initial moments to the array\n",
    "    step = 0\n",
    "    particles.run(step - particles.n_steps)\n",
    "    moments[run_num, 0:k_mom] = particles.products['M0-Mk'].get(k_mom)\n",
    "    \n",
    "    # add the final moments to the array\n",
    "    step = end_step\n",
    "    particles.run(step - particles.n_steps)\n",
    "    moments[run_num, k_mom:2*k_mom] = particles.products['M0-Mk'].get(k_mom)\n",
    "\n",
    "# save the data\n",
    "np.savetxt('blind_test_1.out', moments, header=\"M0(0), M1(0), M2(0), M0(1), M1(1), M2(1)\")"
   ]
  },
  {
   "cell_type": "markdown",
   "metadata": {},
   "source": [
    "# 2. Gamma distribution, golovin kernel"
   ]
  },
  {
   "cell_type": "markdown",
   "metadata": {},
   "source": [
    "Gamma distribution with N=1e7, k=3.2, theta=1.7;\n",
    "\n",
    "Golovin kernel = 5.13e-8;\n",
    "\n",
    "Simulation time = 1 (1000 time steps)"
   ]
  },
  {
   "cell_type": "code",
   "execution_count": 23,
   "metadata": {},
   "outputs": [],
   "source": [
    "# Set desired constants\n",
    "b_golovin= 5.13e-8       # Kernel constant\n",
    "dt_sim = 1e-3          # time step\n",
    "T_sim  = 1             # total time of simulation\n",
    "n_sd   = 2**14         # number of superdroplets\n",
    "N0     = 1e7           # total number of droplets\n",
    "end_step = int(T_sim / dt_sim)\n",
    "k_shape = 3.2\n",
    "theta_scale = 1.7\n",
    "\n",
    "from PySDM.initialisation.spectra import Gamma\n",
    "from PySDM.initialisation.spectral_sampling import ConstantMultiplicity\n",
    "\n",
    "# initial distribution\n",
    "initial_spectrum = Gamma(norm_factor=N0, k=k_shape, theta=theta_scale)\n",
    "attributes = {}\n",
    "attributes['volume'], attributes['n'] =\\\n",
    "    ConstantMultiplicity(spectrum=initial_spectrum).sample(n_sd)\n",
    "\n",
    "from PySDM import Builder\n",
    "from PySDM.environments import Box\n",
    "from PySDM.dynamics import Coalescence\n",
    "from PySDM.dynamics.coalescence.kernels import Golovin\n",
    "from PySDM.backends import CPU\n",
    "from PySDM.products.state import ParticlesNumberVolumeSpectrum, KMoments, KthMoment"
   ]
  },
  {
   "cell_type": "code",
   "execution_count": 24,
   "metadata": {},
   "outputs": [
    {
     "data": {
      "text/plain": [
       "Text(0.5, 1.0, 'initial distribution')"
      ]
     },
     "execution_count": 24,
     "metadata": {},
     "output_type": "execute_result"
    },
    {
     "data": {
      "image/png": "[encoded data removed]",
      "text/plain": [
       "<Figure size 432x288 with 1 Axes>"
      ]
     },
     "metadata": {
      "needs_background": "light"
     },
     "output_type": "display_data"
    }
   ],
   "source": [
    "# build the superdroplets\n",
    "builder = Builder(n_sd=n_sd, backend=CPU)\n",
    "builder.set_environment(Box(dt=dt_sim, dv=1))\n",
    "builder.add_dynamic(Coalescence(kernel=Golovin(b = b_golovin)))\n",
    "products = [ParticlesNumberVolumeSpectrum(), KMoments(), KthMoment()]\n",
    "particles = builder.build(attributes, products)\n",
    "\n",
    "# plot initial distribution\n",
    "v_bins_edges = np.linspace((1), (50), num=100)\n",
    "\n",
    "for step in [0, int(end_step/2), end_step]:\n",
    "    particles.run(step - particles.n_steps)\n",
    "    pyplot.step(x=v_bins_edges[:-1],\n",
    "                y=particles.products['N(v)'].get(v_bins_edges)/particles.products['Mk'].get(0),\n",
    "                where='post', label=f\"t = {step*dt_sim}s\")\n",
    "\n",
    "pyplot.xlabel('mass or volume')\n",
    "pyplot.ylabel(\"N\")\n",
    "pyplot.legend()\n",
    "pyplot.title(\"initial distribution\")"
   ]
  },
  {
   "cell_type": "code",
   "execution_count": 25,
   "metadata": {},
   "outputs": [],
   "source": [
    "N_runs = 10\n",
    "k_mom = 3\n",
    "\n",
    "#[[initial moments 1, final moments 1],\n",
    "#  initial moments 2, final moments 2], ...]\n",
    "\n",
    "moments = np.zeros((N_runs, k_mom*2))\n",
    "\n",
    "for run_num in range(N_runs):\n",
    "    # reinitialize the SD\n",
    "    builder = Builder(n_sd=n_sd, backend=CPU)\n",
    "    builder.set_environment(Box(dt=dt_sim, dv=1))\n",
    "    builder.add_dynamic(Coalescence(kernel=Golovin(b=b_golovin)))\n",
    "    products = [ParticlesNumberVolumeSpectrum(), KMoments()]\n",
    "    particles = builder.build(attributes, products)\n",
    "    \n",
    "    # add the initial moments to the array\n",
    "    step = 0\n",
    "    particles.run(step - particles.n_steps)\n",
    "    moments[run_num, 0:k_mom] = particles.products['M0-Mk'].get(k_mom)\n",
    "    \n",
    "    # add the final moments to the array\n",
    "    step = end_step\n",
    "    particles.run(step - particles.n_steps)\n",
    "    moments[run_num, k_mom:2*k_mom] = particles.products['M0-Mk'].get(k_mom)\n",
    "\n",
    "# save the data\n",
    "np.savetxt('blind_test_2.out', moments, header=\"M0(0), M1(0), M2(0), M0(1), M1(1), M2(1)\")"
   ]
  },
  {
   "cell_type": "markdown",
   "metadata": {},
   "source": [
    "# 3. Golovin kernel, exponential distribution"
   ]
  },
  {
   "cell_type": "markdown",
   "metadata": {},
   "source": [
    "Exponential distribution with N=1e7, lambda=11.7;\n",
    "\n",
    "Golovin kernel = 7.2e-8;\n",
    "\n",
    "Simulation time = 1 (1000 time steps)"
   ]
  },
  {
   "cell_type": "code",
   "execution_count": 19,
   "metadata": {},
   "outputs": [],
   "source": [
    "# Set desired constants\n",
    "b_golovin= 7.2e-8       # Kernel constant\n",
    "dt_sim = 1e-3          # time step\n",
    "T_sim  = 1             # total time of simulation\n",
    "n_sd   = 2**14         # number of superdroplets\n",
    "N0     = 1e7           # total number of droplets\n",
    "end_step = int(T_sim / dt_sim)\n",
    "lambda_scale = 11.7\n",
    "\n",
    "from PySDM.initialisation.spectra import Exponential\n",
    "from PySDM.initialisation.spectral_sampling import ConstantMultiplicity\n",
    "\n",
    "# initial distribution\n",
    "initial_spectrum = Exponential(norm_factor=N0, scale=lambda_scale)\n",
    "attributes = {}\n",
    "attributes['volume'], attributes['n'] =\\\n",
    "    ConstantMultiplicity(spectrum=initial_spectrum).sample(n_sd)\n",
    "\n",
    "from PySDM import Builder\n",
    "from PySDM.environments import Box\n",
    "from PySDM.dynamics import Coalescence\n",
    "from PySDM.dynamics.coalescence.kernels import Golovin\n",
    "from PySDM.backends import CPU\n",
    "from PySDM.products.state import ParticlesNumberVolumeSpectrum, KMoments, KthMoment"
   ]
  },
  {
   "cell_type": "code",
   "execution_count": 20,
   "metadata": {},
   "outputs": [
    {
     "data": {
      "text/plain": [
       "Text(0.5, 1.0, 'initial distribution')"
      ]
     },
     "execution_count": 20,
     "metadata": {},
     "output_type": "execute_result"
    },
    {
     "data": {
      "image/png": "[encoded data removed]",
      "text/plain": [
       "<Figure size 432x288 with 1 Axes>"
      ]
     },
     "metadata": {
      "needs_background": "light"
     },
     "output_type": "display_data"
    }
   ],
   "source": [
    "# build the superdroplets\n",
    "builder = Builder(n_sd=n_sd, backend=CPU)\n",
    "builder.set_environment(Box(dt=dt_sim, dv=1))\n",
    "builder.add_dynamic(Coalescence(kernel=Golovin(b = b_golovin)))\n",
    "products = [ParticlesNumberVolumeSpectrum(), KMoments(), KthMoment()]\n",
    "particles = builder.build(attributes, products)\n",
    "\n",
    "# plot initial distribution\n",
    "v_bins_edges = np.linspace((1), (50), num=100)\n",
    "\n",
    "for step in [0, int(end_step/2), end_step]:\n",
    "    particles.run(step - particles.n_steps)\n",
    "    pyplot.step(x=v_bins_edges[:-1],\n",
    "                y=particles.products['N(v)'].get(v_bins_edges)/particles.products['Mk'].get(0),\n",
    "                where='post', label=f\"t = {step*dt_sim}s\")\n",
    "\n",
    "pyplot.xlabel('mass or volume')\n",
    "pyplot.ylabel(\"N\")\n",
    "pyplot.legend()\n",
    "pyplot.title(\"initial distribution\")"
   ]
  },
  {
   "cell_type": "code",
   "execution_count": 22,
   "metadata": {},
   "outputs": [],
   "source": [
    "N_runs = 10\n",
    "k_mom = 3\n",
    "\n",
    "#[[initial moments 1, final moments 1],\n",
    "#  initial moments 2, final moments 2], ...]\n",
    "\n",
    "moments = np.zeros((N_runs, k_mom*2))\n",
    "\n",
    "for run_num in range(N_runs):\n",
    "    # reinitialize the SD\n",
    "    builder = Builder(n_sd=n_sd, backend=CPU)\n",
    "    builder.set_environment(Box(dt=dt_sim, dv=1))\n",
    "    builder.add_dynamic(Coalescence(kernel=Golovin(b=b_golovin)))\n",
    "    products = [ParticlesNumberVolumeSpectrum(), KMoments()]\n",
    "    particles = builder.build(attributes, products)\n",
    "    \n",
    "    # add the initial moments to the array\n",
    "    step = 0\n",
    "    particles.run(step - particles.n_steps)\n",
    "    moments[run_num, 0:k_mom] = particles.products['M0-Mk'].get(k_mom)\n",
    "    \n",
    "    # add the final moments to the array\n",
    "    step = end_step\n",
    "    particles.run(step - particles.n_steps)\n",
    "    moments[run_num, k_mom:2*k_mom] = particles.products['M0-Mk'].get(k_mom)\n",
    "\n",
    "# save the data\n",
    "np.savetxt('blind_test_3.out', moments, header=\"M0(0), M1(0), M2(0), M0(1), M1(1), M2(1)\")"
   ]
  },
  {
   "cell_type": "markdown",
   "metadata": {},
   "source": [
    "# 4. Gamma distribution: match perfect model example"
   ]
  },
  {
   "cell_type": "markdown",
   "metadata": {},
   "source": [
    "### Perfect model setup:\n",
    "Gamma distribution with theta=1.5597, k=0.0817, N=300\n",
    "\n",
    "M1(0) = N k theta = 38.23\n",
    "\n",
    "Golovin kernel = 7.962e-4;\n",
    "\n",
    "bM1(0) (dynamical similarity) =  .03044\n",
    "\n",
    "### PySDM setup:\n",
    "Gamma distribution with theta=1.5597, k=0.0817, N=1e7\n",
    "\n",
    "M1(0) = 1.23e6; bM1(0) = .03044\n",
    "\n",
    "Golovin kernel = 0.000000023886 = 2.3886e-8\n",
    "\n",
    "Simulation time = 1 (1000 time steps)"
   ]
  },
  {
   "cell_type": "code",
   "execution_count": 31,
   "metadata": {},
   "outputs": [],
   "source": [
    "# Set desired constants\n",
    "b_golovin = 2.3886e-8  # Kernel constant\n",
    "dt_sim = 1e-3          # time step\n",
    "T_sim  = 1             # total time of simulation\n",
    "n_sd   = 2**14         # number of superdroplets\n",
    "N0     = 1e7           # total number of droplets\n",
    "end_step = int(T_sim / dt_sim)\n",
    "k_shape = 0.0817\n",
    "theta_scale = 1.5597\n",
    "\n",
    "from PySDM.initialisation.spectra import Gamma\n",
    "from PySDM.initialisation.spectral_sampling import ConstantMultiplicity\n",
    "\n",
    "# initial distribution\n",
    "initial_spectrum = Gamma(norm_factor=N0, k=k_shape, theta=theta_scale)\n",
    "attributes = {}\n",
    "attributes['volume'], attributes['n'] =\\\n",
    "    ConstantMultiplicity(spectrum=initial_spectrum).sample(n_sd)\n",
    "\n",
    "from PySDM import Builder\n",
    "from PySDM.environments import Box\n",
    "from PySDM.dynamics import Coalescence\n",
    "from PySDM.dynamics.coalescence.kernels import Golovin\n",
    "from PySDM.backends import CPU\n",
    "from PySDM.products.state import ParticlesNumberVolumeSpectrum, KMoments, KthMoment"
   ]
  },
  {
   "cell_type": "code",
   "execution_count": 36,
   "metadata": {},
   "outputs": [
    {
     "name": "stdout",
     "output_type": "stream",
     "text": [
      "9797632.0\n",
      "233264.0\n",
      "7720.0\n"
     ]
    },
    {
     "data": {
      "text/plain": [
       "Text(0.5, 1.0, 'initial distribution')"
      ]
     },
     "execution_count": 36,
     "metadata": {},
     "output_type": "execute_result"
    },
    {
     "data": {
      "image/png": "[encoded data removed]",
      "text/plain": [
       "<Figure size 432x288 with 1 Axes>"
      ]
     },
     "metadata": {
      "needs_background": "light"
     },
     "output_type": "display_data"
    }
   ],
   "source": [
    "# build the superdroplets\n",
    "builder = Builder(n_sd=n_sd, backend=CPU)\n",
    "builder.set_environment(Box(dt=dt_sim, dv=1))\n",
    "builder.add_dynamic(Coalescence(kernel=Golovin(b = b_golovin)))\n",
    "products = [ParticlesNumberVolumeSpectrum(), KMoments(), KthMoment()]\n",
    "particles = builder.build(attributes, products)\n",
    "\n",
    "# plot initial distribution\n",
    "v_bins_edges = np.linspace((1), (6), num=100)\n",
    "\n",
    "for step in [0, int(end_step/2), end_step]:\n",
    "    particles.run(step - particles.n_steps)\n",
    "    print(particles.products['Mk'].get(0))\n",
    "    pyplot.step(x=v_bins_edges[:-1],\n",
    "                y=particles.products['N(v)'].get(v_bins_edges)/particles.products['Mk'].get(0),\n",
    "                where='post', label=f\"t = {step*dt_sim}s\")\n",
    "\n",
    "pyplot.xlabel('mass or volume')\n",
    "pyplot.ylabel(\"N\")\n",
    "pyplot.legend()\n",
    "pyplot.title(\"initial distribution\")"
   ]
  },
  {
   "cell_type": "code",
   "execution_count": 38,
   "metadata": {},
   "outputs": [],
   "source": [
    "N_runs = 10\n",
    "k_mom = 3\n",
    "\n",
    "#[[initial moments 1, final moments 1],\n",
    "#  initial moments 2, final moments 2], ...]\n",
    "\n",
    "moments = np.zeros((N_runs, k_mom*2))\n",
    "\n",
    "for run_num in range(N_runs):\n",
    "    # reinitialize the SD\n",
    "    builder = Builder(n_sd=n_sd, backend=CPU)\n",
    "    builder.set_environment(Box(dt=dt_sim, dv=1))\n",
    "    builder.add_dynamic(Coalescence(kernel=Golovin(b=b_golovin)))\n",
    "    products = [ParticlesNumberVolumeSpectrum(), KMoments()]\n",
    "    particles = builder.build(attributes, products)\n",
    "    \n",
    "    # add the initial moments to the array\n",
    "    step = 0\n",
    "    particles.run(step - particles.n_steps)\n",
    "    moments[run_num, 0:k_mom] = particles.products['M0-Mk'].get(k_mom)\n",
    "    \n",
    "    # add the final moments to the array\n",
    "    step = end_step\n",
    "    particles.run(step - particles.n_steps)\n",
    "    moments[run_num, k_mom:2*k_mom] = particles.products['M0-Mk'].get(k_mom)\n",
    "\n",
    "# save the data\n",
    "np.savetxt('test4_perfectexp.out', moments, header=\"M0(0), M1(0), M2(0), M0(1), M1(1), M2(1)\")"
   ]
  },
  {
   "cell_type": "code",
   "execution_count": null,
   "metadata": {},
   "outputs": [],
   "source": []
  }
 ],
 "metadata": {
  "kernelspec": {
   "display_name": "Python 3",
   "language": "python",
   "name": "python3"
  },
  "language_info": {
   "codemirror_mode": {
    "name": "ipython",
    "version": 3
   },
   "file_extension": ".py",
   "mimetype": "text/x-python",
   "name": "python",
   "nbconvert_exporter": "python",
   "pygments_lexer": "ipython3",
   "version": "3.8.5"
  }
 },
 "nbformat": 4,
 "nbformat_minor": 4
}
