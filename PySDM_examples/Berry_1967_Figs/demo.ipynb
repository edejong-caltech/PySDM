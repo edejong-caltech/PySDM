{
 "cells": [
  {
   "cell_type": "code",
   "execution_count": 1,
   "metadata": {},
   "outputs": [],
   "source": [
    "\"\"\"\n",
    "clone and install PySDM dependencies in Colab\n",
    "(to use GPU on Colab set hardware accelerator to 'GPU' before session start\n",
    "in the \"Runtime :: Change runtime type :: Hardware accelerator\" menu)\n",
    "\"\"\"\n",
    "import os, sys\n",
    "if 'google.colab' in sys.modules:\n",
    "    %cd /content\n",
    "    if not os.path.isdir('PySDM'):\n",
    "        !git clone --depth 1 https://github.com/atmos-cloud-sim-uj/PySDM.git\n",
    "    %cd PySDM\n",
    "    !pip install -r requirements.txt"
   ]
  },
  {
   "cell_type": "code",
   "execution_count": null,
   "outputs": [],
   "source": [
    "import os, sys\n",
    "if 'google.colab' in sys.modules:\n",
    "    %cd /content/PySDM\n",
    "else:\n",
    "    sys.path.insert(0, os.path.join(os.getcwd(), '../..'))"
   ],
   "metadata": {
    "collapsed": false,
    "pycharm": {
     "name": "#%%\n"
    }
   }
  },
  {
   "cell_type": "code",
   "execution_count": null,
   "outputs": [],
   "source": [
    "from numpy import errstate\n",
    "from PySDM.backends import Default, ThrustRTC\n",
    "from PySDM.dynamics.coalescence.kernels import Geometric, Hydrodynamic, Electric\n",
    "from PySDM_examples.Berry_1967_Figs.spectrum_plotter import SpectrumPlotter\n",
    "from PySDM_examples.Berry_1967_Figs.setup import Setup\n",
    "from PySDM_examples.Shima_et_al_2009_Fig_2.example import run\n",
    "import ipywidgets as widgets"
   ],
   "metadata": {
    "collapsed": false,
    "pycharm": {
     "name": "#%%\n"
    }
   }
  },
  {
   "cell_type": "code",
   "execution_count": 3,
   "metadata": {},
   "outputs": [],
   "source": [
    "progbar = widgets.IntProgress(min=0, max=100, description='%')\n",
    "class ProgbarUpdater:\n",
    "    def __init__(self, progbar, max_steps):\n",
    "        self.max_steps = max_steps\n",
    "        self.steps = 0\n",
    "        self.progbar = progbar\n",
    "\n",
    "    def notify(self):\n",
    "        self.steps += 1\n",
    "        self.progbar.value = 100 * (self.steps / self.max_steps)\n",
    "        \n",
    "class WidgetsFreezer:\n",
    "    def __init__(self, widgets):\n",
    "        self.widgets = widgets\n",
    "        \n",
    "    def observe(*args, **kwargs):\n",
    "        pass\n",
    "    \n",
    "    @property\n",
    "    def value(self):\n",
    "        return self\n",
    "    \n",
    "    def __enter__(self):\n",
    "        for widget in self.widgets:\n",
    "            widget.disabled = True\n",
    "        return self\n",
    "            \n",
    "    def __exit__(self, *args, **kwargs):\n",
    "        for widget in self.widgets:\n",
    "            widget.disabled = False"
   ]
  },
  {
   "cell_type": "code",
   "execution_count": 4,
   "metadata": {},
   "outputs": [],
   "source": [
    "def demo(*, freezer, n_SD, n_step, n_plot, kernel, adaptive, smooth, gpu):\n",
    "    with freezer:\n",
    "        with errstate(all='raise'):\n",
    "            setup = Setup()\n",
    "            setup.backend = ThrustRTC() if gpu else Default()\n",
    "            setup.n_sd = 2 ** n_SD\n",
    "            setup.adaptive = adaptive\n",
    "            setup.dt = 10 if adaptive else setup.dt\n",
    "            setup._steps = [i * (n_step // n_plot) for i in range(n_plot + 1)]\n",
    "            if kernel == 'geometric sweep-out':\n",
    "                setup.kernel = Geometric()\n",
    "            elif kernel == 'electric field 3000V/cm':\n",
    "                setup.kernel = Electric()\n",
    "            else:\n",
    "                setup.kernel = Hydrodynamic()\n",
    "\n",
    "            states, _ = run(setup, (ProgbarUpdater(progbar, setup.steps[-1]),))\n",
    "\n",
    "        with errstate(invalid='ignore'):\n",
    "            plotter = SpectrumPlotter(setup)\n",
    "            plotter.smooth = smooth\n",
    "            for step, state in states.items():\n",
    "                plotter.plot(state, step * setup.dt)\n",
    "            plotter.show()"
   ]
  },
  {
   "cell_type": "code",
   "execution_count": 5,
   "metadata": {
    "scrolled": false
   },
   "outputs": [
    {
     "data": {
      "application/vnd.jupyter.widget-view+json": {
       "model_id": "c0ac50896d5741ac84375003f6375edd",
       "version_major": 2,
       "version_minor": 0
      },
      "text/plain": [
       "HBox(children=(IntSlider(value=14, continuous_update=False, description='$log_2(n_{SD})$', max=18, min=12), In…"
      ]
     },
     "metadata": {},
     "output_type": "display_data"
    },
    {
     "data": {
      "application/vnd.jupyter.widget-view+json": {
       "model_id": "b888748e24594cb481ee80088960b73c",
       "version_major": 2,
       "version_minor": 0
      },
      "text/plain": [
       "HBox(children=(Checkbox(value=False, description='adaptive dt'), Checkbox(value=False, description='GPU'), Sel…"
      ]
     },
     "metadata": {},
     "output_type": "display_data"
    },
    {
     "data": {
      "application/vnd.jupyter.widget-view+json": {
       "model_id": "203cd5a047654e79aefcb8ec5a27ef7e",
       "version_major": 2,
       "version_minor": 0
      },
      "text/plain": [
       "IntProgress(value=100, description='%')"
      ]
     },
     "metadata": {},
     "output_type": "display_data"
    },
    {
     "data": {
      "application/vnd.jupyter.widget-view+json": {
       "model_id": "65dc968c35b74d59ae3971ac0aec12ce",
       "version_major": 2,
       "version_minor": 0
      },
      "text/plain": [
       "Output()"
      ]
     },
     "metadata": {},
     "output_type": "display_data"
    }
   ],
   "source": [
    "n_SD = widgets.IntSlider(value=14, min=12, max=18, step=1, description='$log_2(n_{SD})$', continuous_update=False)\n",
    "n_step = widgets.IntSlider(value=1000, step=100, min=0, max=2400, description='$n_{step}$', continuous_update=False)\n",
    "n_plot = widgets.IntSlider(value=10, step=1, min=1, max=16, description='$n_{plot}$', continuous_update=False)\n",
    "sliders = widgets.HBox([n_SD, n_step, n_plot])\n",
    "\n",
    "adaptive = widgets.Checkbox(value=False, description='adaptive dt')\n",
    "smooth = widgets.Checkbox(value=True, description='smooth plot')\n",
    "gpu = widgets.Checkbox(value=False, description='GPU')\n",
    "options = [adaptive, smooth]\n",
    "if ThrustRTC.ENABLE:\n",
    "    options.append(gpu)\n",
    "kernel = widgets.Select(\n",
    "    options=['geometric sweep-out', 'electric field 3000V/cm', 'hydrodynamic capture'],\n",
    "    value='geometric sweep-out',\n",
    "    description='kernel:',\n",
    "    rows=3\n",
    ")\n",
    "options.append(kernel)\n",
    "boxes = widgets.HBox(options)\n",
    "    \n",
    "freezer = WidgetsFreezer([n_SD, n_step, n_plot, kernel, adaptive, gpu])\n",
    "self = widgets.interactive_output(demo, \n",
    "                                  {'freezer': freezer, 'n_SD': n_SD, 'n_step': n_step, 'n_plot': n_plot, \n",
    "                                   'kernel': kernel, 'adaptive': adaptive, 'smooth': smooth, 'gpu': gpu})\n",
    "\n",
    "display(sliders, boxes, progbar, self)"
   ]
  },
  {
   "cell_type": "code",
   "execution_count": null,
   "metadata": {},
   "outputs": [],
   "source": []
  },
  {
   "cell_type": "code",
   "execution_count": null,
   "metadata": {},
   "outputs": [],
   "source": []
  }
 ],
 "metadata": {
  "kernelspec": {
   "display_name": "Python 3",
   "language": "python",
   "name": "python3"
  },
  "language_info": {
   "codemirror_mode": {
    "name": "ipython",
    "version": 3
   },
   "file_extension": ".py",
   "mimetype": "text/x-python",
   "name": "python",
   "nbconvert_exporter": "python",
   "pygments_lexer": "ipython3",
   "version": "3.8.2"
  }
 },
 "nbformat": 4,
 "nbformat_minor": 4
}