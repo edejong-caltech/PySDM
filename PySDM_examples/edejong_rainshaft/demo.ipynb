{
 "cells": [
  {
   "cell_type": "markdown",
   "metadata": {},
   "source": [
    "[![Binder](https://mybinder.org/badge_logo.svg)](https://mybinder.org/v2/gh/atmos-cloud-sim-uj/PySDM.git/master?filepath=PySDM_examples/Arabas_et_al_2015_Figs_8_9/demo.ipynb)   \n",
    "[![Open In Colab](https://colab.research.google.com/assets/colab-badge.svg)](https://colab.research.google.com/github/atmos-cloud-sim-uj/PySDM/blob/master/PySDM_examples/Arabas_et_al_2015_Figs_8_9/demo.ipynb)"
   ]
  },
  {
   "cell_type": "markdown",
   "metadata": {},
   "source": [
    "#### based on Figs. 8 & 9 from Arabas et al. 2015 (Geosci. Model Dev. 8)  \"_libcloudph++ 1.0: a single-moment bulk, double-moment bulk, and particle-based warm-rain microphysics library in C++_\"   \n",
    "https://doi.org/10.5194/gmd-8-1677-2015"
   ]
  },
  {
   "cell_type": "code",
   "execution_count": 1,
   "metadata": {},
   "outputs": [],
   "source": [
    "\"\"\"\n",
    "clone and install PySDM dependencies in Colab\n",
    "\"\"\"\n",
    "import os, sys\n",
    "if 'google.colab' in sys.modules:\n",
    "    %cd /content\n",
    "    if not os.path.isdir('PySDM'):\n",
    "        !git clone --depth 1 https://github.com/atmos-cloud-sim-uj/PySDM.git\n",
    "        %cd PySDM\n",
    "    else:\n",
    "        %cd PySDM\n",
    "        !git pull\n",
    "    !pip --quiet install --requirement requirements.txt\n",
    "    !ldconfig"
   ]
  },
  {
   "cell_type": "code",
   "execution_count": 2,
   "metadata": {
    "pycharm": {
     "name": "#%%\n"
    }
   },
   "outputs": [],
   "source": [
    "import os, sys\n",
    "if 'google.colab' in sys.modules:\n",
    "    %cd /content/PySDM/PySDM_examples/Arabas_et_al_2015_Figs_8_9/\n",
    "else:\n",
    "    sys.path.insert(0, os.path.join(os.getcwd(), '../..'))"
   ]
  },
  {
   "cell_type": "code",
   "execution_count": 3,
   "metadata": {
    "pycharm": {
     "name": "#%%\n"
    }
   },
   "outputs": [
    {
     "data": {
      "application/vnd.jupyter.widget-view+json": {
       "model_id": "1433d39befd54b3e959d0d4d5bad66f9",
       "version_major": 2,
       "version_minor": 0
      },
      "text/plain": [
       "Tab(children=(VBox(children=(HBox(children=(FloatProgress(value=0.0, max=1.0), Button(icon='play', style=Butto…"
      ]
     },
     "metadata": {},
     "output_type": "display_data"
    }
   ],
   "source": [
    "%run demo_impl.ipynb"
   ]
  },
  {
   "cell_type": "code",
   "execution_count": null,
   "metadata": {},
   "outputs": [],
   "source": []
  }
 ],
 "metadata": {
  "kernelspec": {
   "display_name": "Python 3",
   "language": "python",
   "name": "python3"
  },
  "language_info": {
   "codemirror_mode": {
    "name": "ipython",
    "version": 3
   },
   "file_extension": ".py",
   "mimetype": "text/x-python",
   "name": "python",
   "nbconvert_exporter": "python",
   "pygments_lexer": "ipython3",
   "version": "3.8.2"
  }
 },
 "nbformat": 4,
 "nbformat_minor": 2
}
