{
 "cells": [
  {
   "cell_type": "code",
   "execution_count": 6,
   "metadata": {},
   "outputs": [],
   "source": [
    "import sys, os\n",
    "sys.path.append(os.path.join(os.getcwd(), '../..'))\n",
    "\n",
    "from PySDM.physics import si\n",
    "from PySDM.initialisation.spectral_sampling import ConstantMultiplicity\n",
    "from PySDM.initialisation.spectra import Gamma, Gaussian\n",
    "from PySDM.physics.formulae import volume\n",
    "from importlib import reload"
   ]
  },
  {
   "cell_type": "code",
   "execution_count": 7,
   "metadata": {},
   "outputs": [],
   "source": [
    "import PySDM.dynamics.coalescence.kernels.linear as l"
   ]
  },
  {
   "cell_type": "code",
   "execution_count": 8,
   "metadata": {},
   "outputs": [
    {
     "data": {
      "text/plain": [
       "<module 'PySDM.dynamics.coalescence.kernels.linear' from '/home/edejong/.conda/envs/edjPySDM/lib/python3.8/site-packages/PySDM/dynamics/coalescence/kernels/linear.py'>"
      ]
     },
     "execution_count": 8,
     "metadata": {},
     "output_type": "execute_result"
    }
   ],
   "source": [
    "reload(l)"
   ]
  },
  {
   "cell_type": "code",
   "execution_count": null,
   "metadata": {},
   "outputs": [],
   "source": [
    "# Set desired constants\n",
    "a      = 8e-7          # 1/s\n",
    "b      = 1e-6          # cm3/s\n",
    "dt_sim = 1e-3          # time step\n",
    "T_sim  = 1             # total time of simulation\n",
    "n_sd   = 2**14         # number of superdroplets\n",
    "N0     = 1e5           # total number of droplets\n",
    "end_step = int(T_sim / dt_sim)\n",
    "k_shape = 0.0817\n",
    "theta = 1.5597\n",
    "\n",
    "# initial distribution\n",
    "#initial_spectrum = Gamma(norm_factor=N0, k=0.0817, theta= 1.5597)\n",
    "initial_spectrum = Gaussian(norm_factor=N0, loc=15, scale=5)\n",
    "attributes = {}\n",
    "attributes['volume'], attributes['n'] =\\\n",
    "    ConstantMultiplicity(spectrum=initial_spectrum).sample(n_sd)"
   ]
  },
  {
   "cell_type": "code",
   "execution_count": null,
   "metadata": {},
   "outputs": [],
   "source": [
    "from PySDM import Builder\n",
    "from PySDM.environments import Box\n",
    "from PySDM.dynamics import Coalescence\n",
    "from K import A_plus_B\n",
    "from PySDM.backends import CPU\n",
    "from PySDM.products.state import ParticlesVolumeSpectrum, ParticlesNumberVolumeSpectrum, KthMoment\n",
    "\n",
    "builder = Builder(n_sd=n_sd, backend=CPU)\n",
    "builder.set_environment(Box(dt=dt_sim, dv=1))\n",
    "builder.add_dynamic(Coalescence(kernel=Linear(a, b)))\n",
    "products = [ParticlesVolumeSpectrum(), ParticlesNumberVolumeSpectrum(), KthMoment()]\n",
    "particles = builder.build(attributes, products)"
   ]
  },
  {
   "cell_type": "code",
   "execution_count": null,
   "metadata": {},
   "outputs": [],
   "source": [
    "from PySDM.dynamics.coalescence import "
   ]
  },
  {
   "cell_type": "markdown",
   "metadata": {},
   "source": [
    "## Plot the distribution"
   ]
  },
  {
   "cell_type": "code",
   "execution_count": 6,
   "metadata": {},
   "outputs": [
    {
     "name": "stdout",
     "output_type": "stream",
     "text": [
      "98304.0\n",
      "30086.0\n",
      "Average final particle size:  49.011500365618836\n"
     ]
    },
    {
     "data": {
      "text/plain": [
       "<matplotlib.legend.Legend at 0x7f8acbfd53d0>"
      ]
     },
     "execution_count": 6,
     "metadata": {},
     "output_type": "execute_result"
    },
    {
     "data": {
      "image/png": "[encoded data removed]",
      "text/plain": [
       "<Figure size 432x288 with 1 Axes>"
      ]
     },
     "metadata": {
      "needs_background": "light"
     },
     "output_type": "display_data"
    }
   ],
   "source": [
    "from matplotlib import pyplot\n",
    "import numpy as np\n",
    "\n",
    "v_bins_edges = np.linspace((1), (200), num=100)\n",
    "\n",
    "for step in [0, end_step]:\n",
    "    particles.run(step - particles.n_steps)\n",
    "    pyplot.step(x=v_bins_edges[:-1],\n",
    "                y=particles.products['N(v)'].get(v_bins_edges)/particles.products['Mk'].get(0),\n",
    "                where='post', label=f\"t = {step*dt_sim}s\")\n",
    "    print((particles.products['Mk'].get(0)))\n",
    "\n",
    "print(\"Average final particle size: \", particles.products['Mk'].get(1)/particles.products['Mk'].get(0))\n",
    "\n",
    "pyplot.xlabel('mass or volume')\n",
    "pyplot.ylabel(\"N\")\n",
    "pyplot.legend()"
   ]
  },
  {
   "cell_type": "markdown",
   "metadata": {},
   "source": [
    "## Plot the moments, plus analytic moments"
   ]
  },
  {
   "cell_type": "code",
   "execution_count": 7,
   "metadata": {},
   "outputs": [],
   "source": [
    "# Plot the moments over time\n",
    "n_time = 100\n",
    "from PySDM.products.state import KMoments\n",
    "\n",
    "builder = Builder(n_sd=n_sd, backend=CPU)\n",
    "builder.set_environment(Box(dt=dt_sim, dv=1))\n",
    "builder.add_dynamic(Coalescence(kernel=Golovin(b = K)))\n",
    "products = [KMoments()]\n",
    "particles = builder.build(attributes, products)\n",
    "\n",
    "k = 3\n",
    "tsteps = range(n_time)\n",
    "Mk = np.zeros((len(tsteps), k))\n",
    "Mk_norm = np.zeros((len(tsteps), k))\n",
    "\n",
    "## PySDM solutions\n",
    "for i, step in enumerate(tsteps):\n",
    "    step = int(end_step*step/(n_time-1))\n",
    "    particles.run(step - particles.n_steps)\n",
    "    Mk[i,:] = (particles.products['M0-Mk'].get(k))\n",
    "    Mk_norm[i,:] = Mk[i,:] / Mk[0,:]"
   ]
  },
  {
   "cell_type": "code",
   "execution_count": 9,
   "metadata": {},
   "outputs": [],
   "source": [
    "# Analytic solutions\n",
    "def golovin_M012_norm_analytic(M_0, t, b):\n",
    "    M0 = M_0[0]*np.exp(-b*M_0[1]*t)\n",
    "    M1 = M_0[1]\n",
    "    M2 = M_0[2]*np.exp(2*b*M_0[1]*t)\n",
    "    return [M0/M_0[0], M1/M_0[1], M2/M_0[2]]\n",
    "\n",
    "#M_0 = [N0, N0*k*theta, N0*(k+1)*k*theta**2]\n",
    "mu = 15\n",
    "sigma = 5\n",
    "M_0 = [N0, N0*mu, N0*(mu**2 + sigma**2)]\n",
    "Mk_norm_analytic = np.zeros((len(tsteps), k))\n",
    "for i, step in enumerate(tsteps):\n",
    "    t = T_sim*step/(n_time-1)\n",
    "    Mk_norm_analytic[i,:] = golovin_M012_norm_analytic(M_0,t,K)"
   ]
  },
  {
   "cell_type": "code",
   "execution_count": 10,
   "metadata": {},
   "outputs": [
    {
     "name": "stdout",
     "output_type": "stream",
     "text": [
      "initial moments:  [   98304.          1474560.         24265027.43164101]\n",
      "final moments:  [3.0436000e+04 1.4745600e+06 2.5309648e+08]\n"
     ]
    },
    {
     "data": {
      "image/png": "[encoded data removed]",
      "text/plain": [
       "<Figure size 432x288 with 1 Axes>"
      ]
     },
     "metadata": {
      "needs_background": "light"
     },
     "output_type": "display_data"
    }
   ],
   "source": [
    "j=0\n",
    "pyplot.plot([t/(n_time-1)*T_sim for t in tsteps], Mk_norm[:,j], label=f\"M_{j}\")\n",
    "pyplot.plot([t/(n_time-1)*T_sim for t in tsteps], Mk_norm_analytic[:,j], label=f\"M_{j} analytic\")\n",
    "    \n",
    "pyplot.xlabel(\"time\")\n",
    "pyplot.ylabel(\"M_k(t)/M_k(0)\")\n",
    "pyplot.legend()\n",
    "\n",
    "print(\"initial moments: \", Mk[0,:])\n",
    "print(\"final moments: \", Mk[-1,:])"
   ]
  },
  {
   "cell_type": "code",
   "execution_count": 11,
   "metadata": {},
   "outputs": [
    {
     "name": "stdout",
     "output_type": "stream",
     "text": [
      "initial moments:  [   98304.          1474560.         24265027.43164101]\n",
      "final moments:  [3.0436000e+04 1.4745600e+06 2.5309648e+08]\n"
     ]
    },
    {
     "data": {
      "image/png": "[encoded data removed]",
      "text/plain": [
       "<Figure size 432x288 with 1 Axes>"
      ]
     },
     "metadata": {
      "needs_background": "light"
     },
     "output_type": "display_data"
    }
   ],
   "source": [
    "j=1\n",
    "pyplot.plot([t/(n_time-1)*T_sim for t in tsteps], Mk_norm[:,j], label=f\"M_{j}\")\n",
    "pyplot.plot([t/(n_time-1)*T_sim for t in tsteps], Mk_norm_analytic[:,j], label=f\"M_{j} analytic\")\n",
    "    \n",
    "pyplot.xlabel(\"time\")\n",
    "pyplot.ylabel(\"M_k(t)/M_k(0)\")\n",
    "pyplot.legend()\n",
    "\n",
    "print(\"initial moments: \", Mk[0,:])\n",
    "print(\"final moments: \", Mk[-1,:])"
   ]
  },
  {
   "cell_type": "code",
   "execution_count": 12,
   "metadata": {},
   "outputs": [
    {
     "name": "stdout",
     "output_type": "stream",
     "text": [
      "initial moments:  [   98304.          1474560.         24265027.43164101]\n",
      "final moments:  [3.0436000e+04 1.4745600e+06 2.5309648e+08]\n"
     ]
    },
    {
     "data": {
      "image/png": "[encoded data removed]",
      "text/plain": [
       "<Figure size 432x288 with 1 Axes>"
      ]
     },
     "metadata": {
      "needs_background": "light"
     },
     "output_type": "display_data"
    }
   ],
   "source": [
    "j=2\n",
    "pyplot.plot([t/(n_time-1)*T_sim for t in tsteps], Mk_norm[:,j], label=f\"M_{j}\")\n",
    "pyplot.plot([t/(n_time-1)*T_sim for t in tsteps], Mk_norm_analytic[:,j], label=f\"M_{j} analytic\")\n",
    "    \n",
    "pyplot.xlabel(\"time\")\n",
    "pyplot.ylabel(\"M_k(t)/M_k(0)\")\n",
    "pyplot.legend()\n",
    "\n",
    "print(\"initial moments: \", Mk[0,:])\n",
    "print(\"final moments: \", Mk[-1,:])"
   ]
  },
  {
   "cell_type": "code",
   "execution_count": null,
   "metadata": {},
   "outputs": [],
   "source": []
  }
 ],
 "metadata": {
  "kernelspec": {
   "display_name": "Python 3",
   "language": "python",
   "name": "python3"
  },
  "language_info": {
   "codemirror_mode": {
    "name": "ipython",
    "version": 3
   },
   "file_extension": ".py",
   "mimetype": "text/x-python",
   "name": "python",
   "nbconvert_exporter": "python",
   "pygments_lexer": "ipython3",
   "version": "3.8.5"
  }
 },
 "nbformat": 4,
 "nbformat_minor": 4
}
