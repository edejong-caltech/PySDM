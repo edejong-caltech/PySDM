{
 "cells": [
  {
   "cell_type": "code",
   "execution_count": 1,
   "id": "removable-fishing",
   "metadata": {},
   "outputs": [
    {
     "data": {
      "text/plain": [
       "{0: array([2.38995046e+09, 2.84868250e-04, 6.78569436e-17]),\n",
       " 1200: array([2.38995046e+09, 2.84868250e-04, 6.78569436e-17])}"
      ]
     },
     "execution_count": 1,
     "metadata": {},
     "output_type": "execute_result"
    }
   ],
   "source": [
    "import sys, os\n",
    "cwd = os.getcwd()\n",
    "sys.path.insert(0, os.path.join(cwd, '../../..'))\n",
    "from PySDM_examples.edejong_runs.CollectionEff.settings import Settings\n",
    "from PySDM_examples.edejong_runs.CollectionEff.collectionEff import run\n",
    "\n",
    "settings = Settings()\n",
    "\n",
    "run(settings)"
   ]
  }
 ],
 "metadata": {
  "kernelspec": {
   "display_name": "Python 3",
   "language": "python",
   "name": "python3"
  },
  "language_info": {
   "codemirror_mode": {
    "name": "ipython",
    "version": 3
   },
   "file_extension": ".py",
   "mimetype": "text/x-python",
   "name": "python",
   "nbconvert_exporter": "python",
   "pygments_lexer": "ipython3",
   "version": "3.8.5"
  }
 },
 "nbformat": 4,
 "nbformat_minor": 5
}
