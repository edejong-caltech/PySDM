{
 "cells": [
  {
   "cell_type": "code",
   "execution_count": 1,
   "metadata": {},
   "outputs": [
    {
     "name": "stderr",
     "output_type": "stream",
     "text": [
      "/home/edejong/.conda/envs/edjPySDM/lib/python3.8/site-packages/numba/np/ufunc/parallel.py:355: NumbaWarning: \u001b[1mThe TBB threading layer requires TBB version 2019.5 or later i.e., TBB_INTERFACE_VERSION >= 11005. Found TBB_INTERFACE_VERSION = 6103. The TBB threading layer is disabled.\u001b[0m\n",
      "  warnings.warn(problem)\n"
     ]
    }
   ],
   "source": [
    "import sys, os\n",
    "sys.path.append(os.path.join(os.getcwd(), '../..'))\n",
    "\n",
    "from PySDM.physics import si\n",
    "from PySDM.initialisation.spectral_sampling import ConstantMultiplicity\n",
    "from PySDM.initialisation.spectra import Gaussian\n",
    "from PySDM.physics.formulae import volume"
   ]
  },
  {
   "cell_type": "markdown",
   "metadata": {},
   "source": [
    "# 1. Constant Kernel"
   ]
  },
  {
   "cell_type": "code",
   "execution_count": 80,
   "metadata": {},
   "outputs": [
    {
     "data": {
      "text/plain": [
       "<matplotlib.legend.Legend at 0x7f73895e6130>"
      ]
     },
     "execution_count": 80,
     "metadata": {},
     "output_type": "execute_result"
    },
    {
     "data": {
      "image/png": "[encoded data removed]",
      "text/plain": [
       "<Figure size 432x288 with 1 Axes>"
      ]
     },
     "metadata": {
      "needs_background": "light"
     },
     "output_type": "display_data"
    }
   ],
   "source": [
    "n_sd = 2**12\n",
    "initial_spectrum = Gaussian(norm_factor=8.39e12, loc=15 * si.um**3, scale=5 * si.um**3)\n",
    "attributes = {}\n",
    "attributes['volume'], attributes['n'] =\\\n",
    "    ConstantMultiplicity(spectrum=initial_spectrum).sample(n_sd)\n",
    "\n",
    "from PySDM import Builder\n",
    "from PySDM.environments import Box\n",
    "from PySDM.dynamics import Coalescence\n",
    "from PySDM.dynamics.coalescence.kernels import ConstKern\n",
    "from PySDM.backends import CPU\n",
    "from PySDM.products.state import ParticlesNumberVolumeSpectrum, KthMoment\n",
    "\n",
    "builder = Builder(n_sd=n_sd, backend=CPU)\n",
    "builder.set_environment(Box(dt=1 * si.s, dv=1e6 * si.m**3))\n",
    "builder.add_dynamic(Coalescence(kernel=ConstKern(kernel_const = 0.01 / si.s)))\n",
    "products = [ParticlesNumberVolumeSpectrum(), KthMoment()]\n",
    "particles = builder.build(attributes, products)\n",
    "\n",
    "from PySDM.physics.constants import rho_w\n",
    "from matplotlib import pyplot\n",
    "import numpy as np\n",
    "\n",
    "v_bins_edges = np.logspace(np.log10(1 * si.um**3), np.log10(200 * si.um**3), num=256)\n",
    "\n",
    "for step in [0, 1]:\n",
    "    particles.run(step - particles.n_steps)\n",
    "    pyplot.step(x=v_bins_edges[:-1] / si.um**3,\n",
    "                y=particles.products['N(v)'].get(v_bins_edges),\n",
    "                where='post', label=f\"t = {step}s\")\n",
    "                \n",
    "#pyplot.xscale('log')\n",
    "pyplot.xlabel('mass or volume')\n",
    "pyplot.ylabel(\"N\")\n",
    "pyplot.legend()"
   ]
  },
  {
   "cell_type": "markdown",
   "metadata": {},
   "source": [
    "## Converting back to a function via Gaussian KDE\n",
    "Note that it seems that the scipy KDE function fails when n_sd > 2^11, possibly due to some maximum number of values it allows for the kde to be built. Tends to look bimodal when this is the input."
   ]
  },
  {
   "cell_type": "code",
   "execution_count": 83,
   "metadata": {},
   "outputs": [
    {
     "data": {
      "text/plain": [
       "[<matplotlib.lines.Line2D at 0x7f7389448a90>]"
      ]
     },
     "execution_count": 83,
     "metadata": {},
     "output_type": "execute_result"
    },
    {
     "data": {
      "image/png": "[encoded data removed]",
      "text/plain": [
       "<Figure size 432x288 with 1 Axes>"
      ]
     },
     "metadata": {
      "needs_background": "light"
     },
     "output_type": "display_data"
    }
   ],
   "source": [
    "from scipy import stats\n",
    "\n",
    "## Interpolate it back to a smooth function\n",
    "final_counts = particles.products['N(v)'].get(v_bins_edges)\n",
    "n_drop_final = int(particles.products['Mk'].get(0))\n",
    "\n",
    "kde_pts = particles.particles.get_extensive_attrs().to_ndarray() / si.um**3\n",
    "kde = stats.gaussian_kde(kde_pts[0])\n",
    "\n",
    "x = np.linspace(0,200,500)\n",
    "y = kde(x)\n",
    "pyplot.plot(x ,y)\n",
    "pyplot.xlabel(\"mass or volume\")\n",
    "pyplot.ylabel(\"KDE PDF\")\n",
    "pyplot.step(v_bins_edges[:-1] / si.um**3, particles.products['N(v)'].get(v_bins_edges)/n_drop_final)"
   ]
  },
  {
   "cell_type": "markdown",
   "metadata": {},
   "source": [
    "## Ouputting Moments\n",
    "Either the k'th or the first k moments can be output with my defined state products."
   ]
  },
  {
   "cell_type": "code",
   "execution_count": 84,
   "metadata": {},
   "outputs": [
    {
     "name": "stdout",
     "output_type": "stream",
     "text": [
      "8222200000512.0\n",
      "4111100000256.0\n",
      "2055550000634.0\n"
     ]
    }
   ],
   "source": [
    "# Save and print the moments, for example\n",
    "from PySDM.products.state import KthMoment\n",
    "\n",
    "builder = Builder(n_sd=n_sd, backend=CPU)\n",
    "builder.set_environment(Box(dt=1 * si.s, dv=1e6 * si.m**3))\n",
    "builder.add_dynamic(Coalescence(kernel=ConstKern(kernel_const = 0.005 / si.s)))\n",
    "products = [KthMoment()]\n",
    "particles = builder.build(attributes, products)\n",
    "\n",
    "k = 0\n",
    "for step in [0, 1, 2]:\n",
    "    particles.run(step - particles.n_steps)\n",
    "    print(particles.products['Mk'].get(k))"
   ]
  },
  {
   "cell_type": "code",
   "execution_count": 87,
   "metadata": {},
   "outputs": [
    {
     "data": {
      "text/plain": [
       "<matplotlib.legend.Legend at 0x7f73893f4f10>"
      ]
     },
     "execution_count": 87,
     "metadata": {},
     "output_type": "execute_result"
    },
    {
     "data": {
      "image/png": "[encoded data removed]",
      "text/plain": [
       "<Figure size 432x288 with 1 Axes>"
      ]
     },
     "metadata": {
      "needs_background": "light"
     },
     "output_type": "display_data"
    }
   ],
   "source": [
    "# Plot the moments over time\n",
    "n_time = 2\n",
    "from PySDM.products.state import KMoments\n",
    "\n",
    "builder = Builder(n_sd=n_sd, backend=CPU)\n",
    "builder.set_environment(Box(dt=1 * si.s, dv=1e6 * si.m**3))\n",
    "builder.add_dynamic(Coalescence(kernel=ConstKern(kernel_const = 0.01/(n_time-1) / si.s)))\n",
    "products = [KMoments()]\n",
    "particles = builder.build(attributes, products)\n",
    "\n",
    "k = 4\n",
    "tsteps = range(n_time)\n",
    "Mk = np.zeros((len(tsteps), k))\n",
    "Mk_norm = np.zeros((len(tsteps), k))\n",
    "\n",
    "for i, step in enumerate(tsteps):\n",
    "    particles.run(step - particles.n_steps)\n",
    "    Mk[i,:] = (particles.products['M0-Mk'].get(k))\n",
    "    Mk_norm[i,:] = Mk[i,:] / Mk[0,:]\n",
    "    \n",
    "\n",
    "for j in range(k-1):\n",
    "    pyplot.scatter([t/(n_time-1) for t in tsteps], Mk_norm[:,j], label=f\"M_{j}\")\n",
    "    \n",
    "pyplot.legend()"
   ]
  },
  {
   "cell_type": "code",
   "execution_count": 13,
   "metadata": {},
   "outputs": [
    {
     "data": {
      "text/plain": [
       "array([[8.22220000e+12, 1.50000000e-17, 2.46836619e-34, 4.35764788e-51],\n",
       "       [4.11110000e+12, 3.00000000e-17, 9.43908185e-34, 3.09474496e-50],\n",
       "       [2.05555000e+12, 6.00000000e-17, 3.68903629e-33, 2.32021437e-49]])"
      ]
     },
     "execution_count": 13,
     "metadata": {},
     "output_type": "execute_result"
    }
   ],
   "source": [
    "Mk"
   ]
  },
  {
   "cell_type": "code",
   "execution_count": 11,
   "metadata": {},
   "outputs": [
    {
     "data": {
      "text/plain": [
       "array([[ 1.        ,  1.        ,  1.        ,  1.        ],\n",
       "       [ 0.5       ,  2.        ,  3.82353127,  7.10349434],\n",
       "       [ 0.25      ,  4.        , 14.9432125 , 53.21229032]])"
      ]
     },
     "execution_count": 11,
     "metadata": {},
     "output_type": "execute_result"
    }
   ],
   "source": [
    "Mk_norm"
   ]
  },
  {
   "cell_type": "code",
   "execution_count": null,
   "metadata": {},
   "outputs": [],
   "source": []
  }
 ],
 "metadata": {
  "kernelspec": {
   "display_name": "Python 3",
   "language": "python",
   "name": "python3"
  },
  "language_info": {
   "codemirror_mode": {
    "name": "ipython",
    "version": 3
   },
   "file_extension": ".py",
   "mimetype": "text/x-python",
   "name": "python",
   "nbconvert_exporter": "python",
   "pygments_lexer": "ipython3",
   "version": "3.8.5"
  }
 },
 "nbformat": 4,
 "nbformat_minor": 4
}
