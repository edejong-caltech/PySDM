{
 "cells": [
  {
   "cell_type": "code",
   "execution_count": 1,
   "metadata": {},
   "outputs": [],
   "source": [
    "# Created 18/12/2020 by Emily de Jong"
   ]
  },
  {
   "cell_type": "code",
   "execution_count": 2,
   "metadata": {},
   "outputs": [],
   "source": [
    "# make local files accessible to import statements\n",
    "import sys, os\n",
    "cwd = os.getcwd()\n",
    "sys.path.insert(0, os.path.join(cwd, '../..'))"
   ]
  },
  {
   "cell_type": "code",
   "execution_count": 4,
   "metadata": {},
   "outputs": [],
   "source": [
    "from PySDM.backends import CPU\n",
    "from PySDM.dynamics import Coalescence\n",
    "from PySDM.dynamics import Displacement\n",
    "from PySDM.dynamics import EulerianAdvection\n",
    "from PySDM.dynamics import AmbientThermodynamics\n",
    "from PySDM.state.arakawa_c import Fields\n",
    "#from PySDM.dynamics.eulerian_advection.mpdata import MPDATA\n",
    "from PySDM.environments import Kinematic2D\n",
    "from PySDM.products.environments import DryAirDensity\n",
    "from PySDM.products.environments import DryAirPotentialTemperature\n",
    "from PySDM.products.environments import RelativeHumidity, Pressure, Temperature\n",
    "from PySDM.products.environments import WaterVapourMixingRatio\n",
    "from PySDM.initialisation import spectral_sampling, spatial_sampling\n",
    "from PySDM.builder import Builder\n",
    "from PySDM.products.state import AerosolConcentration, CloudConcentration, DrizzleConcentration\n",
    "from PySDM.products.state import AerosolSpecificConcentration\n",
    "from PySDM.products.state import ParticleMeanRadius\n",
    "from PySDM.products.state import ParticlesWetSizeSpectrum, ParticlesDrySizeSpectrum\n",
    "from PySDM.products.state import SuperDropletCount\n",
    "from PySDM.products.state import TotalParticleConcentration\n",
    "from PySDM.products.state import TotalParticleSpecificConcentration\n",
    "from PySDM.products.dynamics.displacement import SurfacePrecipitation\n",
    "from PySDM.products.stats.timers import CPUTime, WallTime\n",
    "#from .dummy_controller import DummyController\n",
    "#from .spin_up import SpinUp"
   ]
  },
  {
   "cell_type": "code",
   "execution_count": null,
   "metadata": {},
   "outputs": [],
   "source": [
    "n_sd = 2**14\n",
    "grid = (1, 25)\n",
    "size = (10 * si.metres, 1500 * si.metres)\n",
    "\n",
    "builder = Builder(n_sd=n_sd, backend=CPU)\n",
    "environment = Kinematic2D(dt=1,\n",
    "                            grid=grid,\n",
    "                            size=size,\n",
    "                            rhod_of=self.settings.rhod,\n",
    "                            field_values=self.settings.field_values)\n",
    "builder.set_environment(environment)\n",
    "\n",
    "        products = products or [\n",
    "            ParticlesWetSizeSpectrum(v_bins=self.settings.v_bins, normalise_by_dv=True),\n",
    "            ParticlesDrySizeSpectrum(v_bins=self.settings.v_bins, normalise_by_dv=True),  # Note: better v_bins\n",
    "            TotalParticleConcentration(),\n",
    "            TotalParticleSpecificConcentration(),\n",
    "            AerosolConcentration(radius_threshold=self.settings.aerosol_radius_threshold),\n",
    "            CloudConcentration(radius_range=(self.settings.aerosol_radius_threshold, self.settings.drizzle_radius_threshold)),\n",
    "            DrizzleConcentration(radius_threshold=self.settings.drizzle_radius_threshold),\n",
    "            AerosolSpecificConcentration(radius_threshold=self.settings.aerosol_radius_threshold),\n",
    "            ParticleMeanRadius(),\n",
    "            SuperDropletCount(),\n",
    "            RelativeHumidity(), Pressure(), Temperature(),\n",
    "            WaterVapourMixingRatio(),\n",
    "            DryAirDensity(),\n",
    "            DryAirPotentialTemperature(),\n",
    "            CPUTime(),\n",
    "            WallTime()\n",
    "        ]"
   ]
  }
 ],
 "metadata": {
  "kernelspec": {
   "display_name": "Python 3",
   "language": "python",
   "name": "python3"
  },
  "language_info": {
   "codemirror_mode": {
    "name": "ipython",
    "version": 3
   },
   "file_extension": ".py",
   "mimetype": "text/x-python",
   "name": "python",
   "nbconvert_exporter": "python",
   "pygments_lexer": "ipython3",
   "version": "3.8.5"
  }
 },
 "nbformat": 4,
 "nbformat_minor": 4
}
