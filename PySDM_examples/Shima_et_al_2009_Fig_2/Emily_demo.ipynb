{
 "cells": [
  {
   "cell_type": "code",
   "execution_count": 1,
   "metadata": {},
   "outputs": [
    {
     "name": "stderr",
     "output_type": "stream",
     "text": [
      "/home/edejong/.conda/envs/edjPySDM/lib/python3.8/site-packages/numba/np/ufunc/parallel.py:355: NumbaWarning: \u001b[1mThe TBB threading layer requires TBB version 2019.5 or later i.e., TBB_INTERFACE_VERSION >= 11005. Found TBB_INTERFACE_VERSION = 6103. The TBB threading layer is disabled.\u001b[0m\n",
      "  warnings.warn(problem)\n"
     ]
    }
   ],
   "source": [
    "import sys, os\n",
    "sys.path.append(os.path.join(os.getcwd(), '../..'))\n",
    "from PySDM.physics import si\n",
    "from PySDM.initialisation.spectral_sampling import constant_multiplicity\n",
    "from PySDM.initialisation.spectra import Exponential\n",
    "from PySDM.physics.formulae import volume\n",
    "\n",
    "n_sd = 2**13\n",
    "initial_spectrum = Exponential(norm_factor=8.39e12, scale=1.19e5 * si.um**3)\n",
    "sampling_range = (volume(radius=10 * si.um), volume(radius=100 * si.um))\n",
    "attributes = {}\n",
    "attributes['volume'], attributes['n'] =\\\n",
    "    constant_multiplicity(n_sd=n_sd, spectrum=initial_spectrum, range=sampling_range)"
   ]
  },
  {
   "cell_type": "code",
   "execution_count": 2,
   "metadata": {},
   "outputs": [],
   "source": [
    "from PySDM import Builder\n",
    "from PySDM.environments import Box\n",
    "from PySDM.dynamics import Coalescence\n",
    "from PySDM.dynamics.coalescence.kernels import Constant\n",
    "from PySDM.backends import Numba\n",
    "from PySDM.state.products.particles_volume_spectrum import ParticlesVolumeSpectrum\n",
    "\n",
    "builder = Builder(n_sd=n_sd, backend=Numba)\n",
    "builder.set_environment(Box(dt=1 * si.s, dv=1e6 * si.m**3))\n",
    "builder.add_dynamic(Coalescence(kernel=Constant(kernel_const=1e-2 / si.s)))\n",
    "products = [ParticlesVolumeSpectrum()]\n",
    "particles = builder.build(attributes, products)"
   ]
  },
  {
   "cell_type": "code",
   "execution_count": 3,
   "metadata": {},
   "outputs": [
    {
     "data": {
      "image/png": "[encoded data removed]",
      "text/plain": [
       "<Figure size 432x288 with 1 Axes>"
      ]
     },
     "metadata": {
      "needs_background": "light"
     },
     "output_type": "display_data"
    }
   ],
   "source": [
    "from PySDM.physics.constants import rho_w\n",
    "from matplotlib import pyplot\n",
    "import numpy as np\n",
    "\n",
    "radius_bins_edges = np.logspace(np.log10(10 * si.um), np.log10(5e3 * si.um), num=32)\n",
    "\n",
    "for step in [0, 10, 20, 30]:\n",
    "    particles.run(step - particles.n_steps)\n",
    "    pyplot.step(x=radius_bins_edges[:-1] / si.um,\n",
    "                y=particles.products['dv/dlnr'].get(radius_bins_edges) * rho_w / si.g,\n",
    "                where='post', label=f\"t = {step}s\")\n",
    "\n",
    "pyplot.xscale('log')\n",
    "pyplot.xlabel('particle radius [µm]')\n",
    "pyplot.ylabel(\"dm/dlnr [g/m$^3$/(unit dr/r)]\")\n",
    "pyplot.legend()\n",
    "pyplot.show()"
   ]
  },
  {
   "cell_type": "code",
   "execution_count": null,
   "metadata": {},
   "outputs": [],
   "source": []
  }
 ],
 "metadata": {
  "kernelspec": {
   "display_name": "Python 3",
   "language": "python",
   "name": "python3"
  },
  "language_info": {
   "codemirror_mode": {
    "name": "ipython",
    "version": 3
   },
   "file_extension": ".py",
   "mimetype": "text/x-python",
   "name": "python",
   "nbconvert_exporter": "python",
   "pygments_lexer": "ipython3",
   "version": "3.8.5"
  }
 },
 "nbformat": 4,
 "nbformat_minor": 4
}
