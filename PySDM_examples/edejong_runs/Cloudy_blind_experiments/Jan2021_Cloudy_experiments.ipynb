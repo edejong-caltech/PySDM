{
 "cells": [
  {
   "cell_type": "code",
   "execution_count": 1,
   "metadata": {},
   "outputs": [],
   "source": [
    "import sys, os\n",
    "sys.path.append(os.path.join(os.getcwd(), '../../..'))\n",
    "\n",
    "from PySDM.physics import si\n",
    "from PySDM.physics.formulae import volume\n",
    "import numpy as np\n",
    "from matplotlib import pyplot\n",
    "from PySDM.physics.constants import rho_w"
   ]
  },
  {
   "cell_type": "markdown",
   "metadata": {},
   "source": [
    "# 1. Gamma, Golovin\n",
    "\n",
    "B = 5.78e3/1e6 cm^3/g/s\n",
    "\n",
    "T = 60*1e6\n",
    "\n",
    "Gamma distribution with mean = 0.33e-9 g, std dev = 0.33e-9 g"
   ]
  },
  {
   "cell_type": "code",
   "execution_count": 2,
   "metadata": {},
   "outputs": [],
   "source": [
    "# Set desired constants\n",
    "B      = 5.78e3/1e6 * si.cm**3 / si.g / si.s * rho_w\n",
    "dt_sim = 1e5 * si.s      # time step\n",
    "T_sim  = 60*1e6 * si.s   # total time of simulation\n",
    "n_sd   = 2**14           # number of superdroplets\n",
    "N0_perV = 1e4 / si.cm**3 # initial density: number / cm^3\n",
    "N0     = 2e8             # initial number of droplets\n",
    "V_sim  = N0 / N0_perV    # simulation box volume\n",
    "end_step = int(T_sim / dt_sim)\n",
    "\n",
    "# initial distribution\n",
    "mean_particle_mass = 0.33e-9 * si.g\n",
    "stdev_particle_mass = 0.33e-9 * si.g\n",
    "\n",
    "# convert to volume\n",
    "mean_particle_volume = mean_particle_mass / rho_w\n",
    "stdev_particle_volume = stdev_particle_mass / rho_w\n",
    "\n",
    "# get gamma distribution parameters\n",
    "k_shape = (mean_particle_volume / stdev_particle_volume)**2\n",
    "theta_scale = stdev_particle_volume**2/mean_particle_volume"
   ]
  },
  {
   "cell_type": "code",
   "execution_count": 3,
   "metadata": {},
   "outputs": [],
   "source": [
    "from PySDM.initialisation.spectra import Gamma\n",
    "from PySDM.initialisation.spectral_sampling import ConstantMultiplicity\n",
    "\n",
    "# initial distribution\n",
    "initial_spectrum = Gamma(norm_factor=N0, k=k_shape, theta=theta_scale)\n",
    "attributes = {}\n",
    "attributes['volume'], attributes['n'] =\\\n",
    "    ConstantMultiplicity(spectrum=initial_spectrum).sample(n_sd)"
   ]
  },
  {
   "cell_type": "code",
   "execution_count": 6,
   "metadata": {},
   "outputs": [
    {
     "data": {
      "text/plain": [
       "Text(0.5, 1.0, 'initial distribution')"
      ]
     },
     "execution_count": 6,
     "metadata": {},
     "output_type": "execute_result"
    },
    {
     "data": {
      "image/png": "[encoded data removed]",
      "text/plain": [
       "<Figure size 432x288 with 1 Axes>"
      ]
     },
     "metadata": {
      "needs_background": "light"
     },
     "output_type": "display_data"
    }
   ],
   "source": [
    "from PySDM import Builder\n",
    "from PySDM.environments import Box\n",
    "from PySDM.dynamics import Coalescence\n",
    "from PySDM.dynamics.coalescence.kernels import Golovin\n",
    "from PySDM.backends import CPU\n",
    "from PySDM.products.state import ParticlesNumberVolumeSpectrum, KMoments, KthMoment\n",
    "\n",
    "# build the superdroplets\n",
    "builder = Builder(n_sd=n_sd, backend=CPU)\n",
    "builder.set_environment(Box(dt=dt_sim, dv=V_sim))\n",
    "builder.add_dynamic(Coalescence(kernel=Golovin(b = B)))\n",
    "products = [ParticlesNumberVolumeSpectrum(), KMoments(), KthMoment()]\n",
    "particles = builder.build(attributes, products)\n",
    "\n",
    "# plot initial distribution\n",
    "v_bins_edges = np.linspace((mean_particle_volume/10), (mean_particle_volume*10), num=100)\n",
    "m_bins_edges = v_bins_edges * rho_w / si.g\n",
    "\n",
    "for step in [0, int(end_step/2), end_step]:\n",
    "    particles.run(step - particles.n_steps)\n",
    "    pyplot.step(x=v_bins_edges[:-1],\n",
    "                y=particles.products['N(v)'].get(v_bins_edges),#/particles.products['Mk'].get(0),\n",
    "                where='post', label=f\"t = {step*dt_sim}s\")\n",
    "\n",
    "pyplot.xlabel('mass (g)')\n",
    "pyplot.ylabel(\"N\")\n",
    "pyplot.legend()\n",
    "pyplot.title(\"initial distribution\")"
   ]
  },
  {
   "cell_type": "code",
   "execution_count": 82,
   "metadata": {},
   "outputs": [],
   "source": [
    "N_runs = 10\n",
    "k_mom = 3\n",
    "\n",
    "#[[initial moments 1, final moments 1],\n",
    "#  initial moments 2, final moments 2], ...]\n",
    "\n",
    "moments = np.zeros((N_runs, k_mom*2))\n",
    "\n",
    "for run_num in range(N_runs):\n",
    "    # reinitialize the SD\n",
    "    builder = Builder(n_sd=n_sd, backend=CPU)\n",
    "    builder.set_environment(Box(dt=dt_sim, dv=V_sim))\n",
    "    builder.add_dynamic(Coalescence(kernel=Golovin(b=B)))\n",
    "    products = [ParticlesNumberVolumeSpectrum(), KMoments()]\n",
    "    particles = builder.build(attributes, products)\n",
    "    \n",
    "    # add the initial moments to the array\n",
    "    step = 0\n",
    "    particles.run(step - particles.n_steps)\n",
    "    moments[run_num, 0:k_mom] = particles.products['M0-Mk'].get(k_mom)\n",
    "    \n",
    "    # add the final moments to the array\n",
    "    step = end_step\n",
    "    particles.run(step - particles.n_steps)\n",
    "    moments[run_num, k_mom:2*k_mom] = particles.products['M0-Mk'].get(k_mom)\n",
    "    \n",
    "# convert moments to mass per cm^3\n",
    "for i in range(k_mom):\n",
    "    moments[:,i] *= ((rho_w / si.g)**i / (V_sim / si.cm**3))\n",
    "    moments[:,i + k_mom] *= ((rho_w / si.g)**i / (V_sim / si.cm**3))\n",
    "\n",
    "# save the data\n",
    "np.savetxt('jan2021_test_1.out', moments, header=\"M0(0) #/cm3, M1(0) g/cm3, M2(0) g^2/cm3, M0(1) #/cm3, M1(1) g/cm3, M2(1) g^2/cm3\")"
   ]
  },
  {
   "cell_type": "code",
   "execution_count": 80,
   "metadata": {},
   "outputs": [
    {
     "data": {
      "text/plain": [
       "array([[9.99997440e+03, 3.29961404e-06, 2.17610199e-15, 3.19326785e+03,\n",
       "        3.29961404e-06, 2.07628420e-14]])"
      ]
     },
     "execution_count": 80,
     "metadata": {},
     "output_type": "execute_result"
    }
   ],
   "source": [
    "moments"
   ]
  },
  {
   "cell_type": "markdown",
   "metadata": {},
   "source": [
    "## 2. Linear Kernel"
   ]
  },
  {
   "cell_type": "markdown",
   "metadata": {},
   "source": [
    "A = 2.0e-6 / 1e6 cm^3/g/s\n",
    "B = 2.0e3 / 1e6 cm^3/g/s\n",
    "\n",
    "T = 60*1e6\n",
    "\n",
    "Gamma distribution with mean = 0.33e-9 g, std dev = 0.33e-9 g"
   ]
  },
  {
   "cell_type": "code",
   "execution_count": 3,
   "metadata": {},
   "outputs": [],
   "source": [
    "# Set desired constants\n",
    "A      = 2.0e-6 / 1e6 * si.cm**3 / si.s\n",
    "B      = 2.0e3  / 1e6 * si.cm**3 / si.g / si.s * rho_w\n",
    "dt_sim = 1e5 * si.s      # time step\n",
    "T_sim  = 60*1e6 * si.s   # total time of simulation\n",
    "n_sd   = 2**14           # number of superdroplets\n",
    "N0_perV = 1e4 / si.cm**3 # initial density: number / cm^3\n",
    "N0     = 2e8             # initial number of droplets\n",
    "V_sim  = N0 / N0_perV    # simulation box volume\n",
    "end_step = int(T_sim / dt_sim)\n",
    "\n",
    "# initial distribution\n",
    "mean_particle_mass = 0.33e-9 * si.g\n",
    "stdev_particle_mass = 0.33e-9 * si.g\n",
    "\n",
    "# convert to volume\n",
    "mean_particle_volume = mean_particle_mass / rho_w\n",
    "stdev_particle_volume = stdev_particle_mass / rho_w\n",
    "\n",
    "# get gamma distribution parameters\n",
    "k_shape = (mean_particle_volume / stdev_particle_volume)**2\n",
    "theta_scale = stdev_particle_volume**2/mean_particle_volume"
   ]
  },
  {
   "cell_type": "code",
   "execution_count": 5,
   "metadata": {},
   "outputs": [
    {
     "data": {
      "text/plain": [
       "Text(0.5, 1.0, 'initial distribution')"
      ]
     },
     "execution_count": 5,
     "metadata": {},
     "output_type": "execute_result"
    },
    {
     "data": {
      "image/png": "[encoded data removed]",
      "text/plain": [
       "<Figure size 432x288 with 1 Axes>"
      ]
     },
     "metadata": {
      "needs_background": "light"
     },
     "output_type": "display_data"
    }
   ],
   "source": [
    "from PySDM.initialisation.spectra import Gamma\n",
    "from PySDM.initialisation.spectral_sampling import ConstantMultiplicity\n",
    "\n",
    "# initial distribution\n",
    "initial_spectrum = Gamma(norm_factor=N0, k=k_shape, theta=theta_scale)\n",
    "attributes = {}\n",
    "attributes['volume'], attributes['n'] =\\\n",
    "    ConstantMultiplicity(spectrum=initial_spectrum).sample(n_sd)\n",
    "\n",
    "from PySDM import Builder\n",
    "from PySDM.environments import Box\n",
    "from PySDM.dynamics import Coalescence\n",
    "from PySDM.dynamics.coalescence.kernels import Linear\n",
    "from PySDM.backends import CPU\n",
    "from PySDM.products.state import ParticlesNumberVolumeSpectrum, KMoments, KthMoment\n",
    "\n",
    "# build the superdroplets\n",
    "builder = Builder(n_sd=n_sd, backend=CPU)\n",
    "builder.set_environment(Box(dt=dt_sim, dv=V_sim))\n",
    "builder.add_dynamic(Coalescence(kernel=Linear(a=A, b=B)))\n",
    "products = [ParticlesNumberVolumeSpectrum(), KMoments(), KthMoment()]\n",
    "particles = builder.build(attributes, products)\n",
    "\n",
    "# plot initial distribution\n",
    "v_bins_edges = np.linspace((mean_particle_volume/10), (mean_particle_volume*10), num=100)\n",
    "m_bins_edges = v_bins_edges * rho_w / si.g\n",
    "\n",
    "for step in [0, int(end_step/2), end_step]:\n",
    "    particles.run(step - particles.n_steps)\n",
    "    pyplot.step(x=v_bins_edges[:-1],\n",
    "                y=particles.products['N(v)'].get(v_bins_edges),#/particles.products['Mk'].get(0),\n",
    "                where='post', label=f\"t = {step*dt_sim}s\")\n",
    "\n",
    "pyplot.xlabel('mass (g)')\n",
    "pyplot.ylabel(\"N\")\n",
    "pyplot.legend()\n",
    "pyplot.title(\"initial distribution\")"
   ]
  },
  {
   "cell_type": "code",
   "execution_count": 9,
   "metadata": {},
   "outputs": [],
   "source": [
    "N_runs = 10\n",
    "k_mom = 3\n",
    "\n",
    "#[[initial moments 1, final moments 1],\n",
    "#  initial moments 2, final moments 2], ...]\n",
    "\n",
    "moments = np.zeros((N_runs, k_mom*2))\n",
    "\n",
    "for run_num in range(N_runs):\n",
    "    # reinitialize the SD\n",
    "    builder = Builder(n_sd=n_sd, backend=CPU)\n",
    "    builder.set_environment(Box(dt=dt_sim, dv=V_sim))\n",
    "    builder.add_dynamic(Coalescence(kernel=Linear(a=A, b=B)))\n",
    "    products = [ParticlesNumberVolumeSpectrum(), KMoments()]\n",
    "    particles = builder.build(attributes, products)\n",
    "    \n",
    "    # add the initial moments to the array\n",
    "    step = 0\n",
    "    particles.run(step - particles.n_steps)\n",
    "    moments[run_num, 0:k_mom] = particles.products['M0-Mk'].get(k_mom)\n",
    "    \n",
    "    # add the final moments to the array\n",
    "    step = end_step\n",
    "    particles.run(step - particles.n_steps)\n",
    "    moments[run_num, k_mom:2*k_mom] = particles.products['M0-Mk'].get(k_mom)\n",
    "    \n",
    "# convert moments to mass per cm^3\n",
    "for i in range(k_mom):\n",
    "    moments[:,i] *= ((rho_w / si.g)**i / (V_sim / si.cm**3))\n",
    "    moments[:,i + k_mom] *= ((rho_w / si.g)**i / (V_sim / si.cm**3))\n",
    "\n",
    "# save the data\n",
    "np.savetxt('jan2021_linear_1.out', moments, header=\"M0(0) #/cm3, M1(0) g/cm3, M2(0) g^2/cm3, M0(1) #/cm3, M1(1) g/cm3, M2(1) g^2/cm3\")"
   ]
  },
  {
   "cell_type": "markdown",
   "metadata": {},
   "source": [
    "# 3. Product kernel"
   ]
  },
  {
   "cell_type": "code",
   "execution_count": 1,
   "metadata": {},
   "outputs": [],
   "source": [
    "import sys, os\n",
    "sys.path.append(os.path.join(os.getcwd(), '../../..'))\n",
    "\n",
    "from PySDM.physics import si\n",
    "from PySDM.physics.formulae import volume\n",
    "import numpy as np\n",
    "from matplotlib import pyplot\n",
    "from PySDM.physics.constants import rho_w\n",
    "\n",
    "# Set desired constants\n",
    "from PySDM.physics import si\n",
    "A      = 0.00 \n",
    "B      = 0.00\n",
    "C      = 2.0e12 * si.cm**3 / si.g / si.g / si.s * rho_w * rho_w\n",
    "dt_sim = 1 * si.s      # time step\n",
    "T_sim  = 1200 * si.s   # total time of simulation\n",
    "n_sd   = 2**14           # number of superdroplets\n",
    "N0_perV = 1e4 / si.cm**3 # initial density: number / cm^3\n",
    "N0     = 2e8             # initial number of droplets\n",
    "V_sim  = N0 / N0_perV    # simulation box volume\n",
    "end_step = int(T_sim / dt_sim)\n",
    "\n",
    "# initial distribution\n",
    "mean_particle_mass = 0.33e-9 * si.g\n",
    "stdev_particle_mass = 0.33e-9 * si.g\n",
    "\n",
    "# convert to volume\n",
    "mean_particle_volume = mean_particle_mass / rho_w\n",
    "stdev_particle_volume = stdev_particle_mass / rho_w\n",
    "\n",
    "# get gamma distribution parameters\n",
    "k_shape = (mean_particle_volume / stdev_particle_volume)**2\n",
    "theta_scale = stdev_particle_volume**2/mean_particle_volume\n",
    "\n",
    "from PySDM.initialisation.spectra import Gamma\n",
    "from PySDM.initialisation.spectral_sampling import ConstantMultiplicity\n",
    "\n",
    "# initial distribution\n",
    "initial_spectrum = Gamma(norm_factor=N0, k=k_shape, theta=theta_scale)\n",
    "attributes = {}\n",
    "attributes['volume'], attributes['n'] =\\\n",
    "    ConstantMultiplicity(spectrum=initial_spectrum).sample(n_sd)"
   ]
  },
  {
   "cell_type": "code",
   "execution_count": 3,
   "metadata": {},
   "outputs": [
    {
     "ename": "AttributeError",
     "evalue": "'Product' object has no attribute 'register'",
     "output_type": "error",
     "traceback": [
      "\u001b[0;31m---------------------------------------------------------------------------\u001b[0m",
      "\u001b[0;31mAttributeError\u001b[0m                            Traceback (most recent call last)",
      "\u001b[0;32m<ipython-input-3-bed931888d29>\u001b[0m in \u001b[0;36m<module>\u001b[0;34m\u001b[0m\n\u001b[1;32m     11\u001b[0m \u001b[0mbuilder\u001b[0m\u001b[0;34m.\u001b[0m\u001b[0madd_dynamic\u001b[0m\u001b[0;34m(\u001b[0m\u001b[0mCoalescence\u001b[0m\u001b[0;34m(\u001b[0m\u001b[0mkernel\u001b[0m\u001b[0;34m=\u001b[0m\u001b[0mProduct\u001b[0m\u001b[0;34m(\u001b[0m\u001b[0mc\u001b[0m\u001b[0;34m=\u001b[0m\u001b[0mC\u001b[0m\u001b[0;34m)\u001b[0m\u001b[0;34m)\u001b[0m\u001b[0;34m)\u001b[0m\u001b[0;34m\u001b[0m\u001b[0;34m\u001b[0m\u001b[0m\n\u001b[1;32m     12\u001b[0m \u001b[0mproducts\u001b[0m \u001b[0;34m=\u001b[0m \u001b[0;34m[\u001b[0m\u001b[0mParticlesNumberVolumeSpectrum\u001b[0m\u001b[0;34m(\u001b[0m\u001b[0;34m)\u001b[0m\u001b[0;34m,\u001b[0m \u001b[0mKMoments\u001b[0m\u001b[0;34m(\u001b[0m\u001b[0;34m)\u001b[0m\u001b[0;34m,\u001b[0m \u001b[0mKthMoment\u001b[0m\u001b[0;34m(\u001b[0m\u001b[0;34m)\u001b[0m\u001b[0;34m]\u001b[0m\u001b[0;34m\u001b[0m\u001b[0;34m\u001b[0m\u001b[0m\n\u001b[0;32m---> 13\u001b[0;31m \u001b[0mparticles\u001b[0m \u001b[0;34m=\u001b[0m \u001b[0mbuilder\u001b[0m\u001b[0;34m.\u001b[0m\u001b[0mbuild\u001b[0m\u001b[0;34m(\u001b[0m\u001b[0mattributes\u001b[0m\u001b[0;34m,\u001b[0m \u001b[0mproducts\u001b[0m\u001b[0;34m)\u001b[0m\u001b[0;34m\u001b[0m\u001b[0;34m\u001b[0m\u001b[0m\n\u001b[0m\u001b[1;32m     14\u001b[0m \u001b[0;34m\u001b[0m\u001b[0m\n\u001b[1;32m     15\u001b[0m \u001b[0;31m# plot initial distribution\u001b[0m\u001b[0;34m\u001b[0m\u001b[0;34m\u001b[0m\u001b[0;34m\u001b[0m\u001b[0m\n",
      "\u001b[0;32m~/PySDM_v0/PySDM/PySDM_examples/edejong_runs/Cloudy_blind_experiments/../../../PySDM/builder.py\u001b[0m in \u001b[0;36mbuild\u001b[0;34m(self, attributes, products)\u001b[0m\n\u001b[1;32m     50\u001b[0m     \u001b[0;32mdef\u001b[0m \u001b[0mbuild\u001b[0m\u001b[0;34m(\u001b[0m\u001b[0mself\u001b[0m\u001b[0;34m,\u001b[0m \u001b[0mattributes\u001b[0m\u001b[0;34m:\u001b[0m \u001b[0mdict\u001b[0m\u001b[0;34m,\u001b[0m \u001b[0mproducts\u001b[0m\u001b[0;34m:\u001b[0m \u001b[0mlist\u001b[0m \u001b[0;34m=\u001b[0m \u001b[0;34m(\u001b[0m\u001b[0;34m)\u001b[0m\u001b[0;34m)\u001b[0m\u001b[0;34m:\u001b[0m\u001b[0;34m\u001b[0m\u001b[0;34m\u001b[0m\u001b[0m\n\u001b[1;32m     51\u001b[0m         \u001b[0;32mfor\u001b[0m \u001b[0mdynamic\u001b[0m \u001b[0;32min\u001b[0m \u001b[0mself\u001b[0m\u001b[0;34m.\u001b[0m\u001b[0mcore\u001b[0m\u001b[0;34m.\u001b[0m\u001b[0mdynamics\u001b[0m\u001b[0;34m.\u001b[0m\u001b[0mvalues\u001b[0m\u001b[0;34m(\u001b[0m\u001b[0;34m)\u001b[0m\u001b[0;34m:\u001b[0m\u001b[0;34m\u001b[0m\u001b[0;34m\u001b[0m\u001b[0m\n\u001b[0;32m---> 52\u001b[0;31m             \u001b[0mdynamic\u001b[0m\u001b[0;34m.\u001b[0m\u001b[0mregister\u001b[0m\u001b[0;34m(\u001b[0m\u001b[0mself\u001b[0m\u001b[0;34m)\u001b[0m\u001b[0;34m\u001b[0m\u001b[0;34m\u001b[0m\u001b[0m\n\u001b[0m\u001b[1;32m     53\u001b[0m \u001b[0;34m\u001b[0m\u001b[0m\n\u001b[1;32m     54\u001b[0m         \u001b[0;32mfor\u001b[0m \u001b[0mproduct\u001b[0m \u001b[0;32min\u001b[0m \u001b[0mproducts\u001b[0m\u001b[0;34m:\u001b[0m\u001b[0;34m\u001b[0m\u001b[0;34m\u001b[0m\u001b[0m\n",
      "\u001b[0;32m~/PySDM_v0/PySDM/PySDM_examples/edejong_runs/Cloudy_blind_experiments/../../../PySDM/dynamics/coalescence/coalescence.py\u001b[0m in \u001b[0;36mregister\u001b[0;34m(self, builder)\u001b[0m\n\u001b[1;32m     31\u001b[0m         \u001b[0mself\u001b[0m\u001b[0;34m.\u001b[0m\u001b[0mis_first_in_pair\u001b[0m \u001b[0;34m=\u001b[0m \u001b[0mself\u001b[0m\u001b[0;34m.\u001b[0m\u001b[0mcore\u001b[0m\u001b[0;34m.\u001b[0m\u001b[0mIndexedStorage\u001b[0m\u001b[0;34m.\u001b[0m\u001b[0mempty\u001b[0m\u001b[0;34m(\u001b[0m\u001b[0mself\u001b[0m\u001b[0;34m.\u001b[0m\u001b[0mcore\u001b[0m\u001b[0;34m.\u001b[0m\u001b[0mn_sd\u001b[0m\u001b[0;34m,\u001b[0m \u001b[0mdtype\u001b[0m\u001b[0;34m=\u001b[0m\u001b[0mint\u001b[0m\u001b[0;34m)\u001b[0m  \u001b[0;31m# TODO bool\u001b[0m\u001b[0;34m\u001b[0m\u001b[0;34m\u001b[0m\u001b[0m\n\u001b[1;32m     32\u001b[0m         \u001b[0mself\u001b[0m\u001b[0;34m.\u001b[0m\u001b[0mrnd_opt\u001b[0m\u001b[0;34m.\u001b[0m\u001b[0mregister\u001b[0m\u001b[0;34m(\u001b[0m\u001b[0mbuilder\u001b[0m\u001b[0;34m)\u001b[0m\u001b[0;34m\u001b[0m\u001b[0;34m\u001b[0m\u001b[0m\n\u001b[0;32m---> 33\u001b[0;31m         \u001b[0mself\u001b[0m\u001b[0;34m.\u001b[0m\u001b[0mkernel\u001b[0m\u001b[0;34m.\u001b[0m\u001b[0mregister\u001b[0m\u001b[0;34m(\u001b[0m\u001b[0mbuilder\u001b[0m\u001b[0;34m)\u001b[0m\u001b[0;34m\u001b[0m\u001b[0;34m\u001b[0m\u001b[0m\n\u001b[0m\u001b[1;32m     34\u001b[0m \u001b[0;34m\u001b[0m\u001b[0m\n\u001b[1;32m     35\u001b[0m     \u001b[0;32mdef\u001b[0m \u001b[0m__call__\u001b[0m\u001b[0;34m(\u001b[0m\u001b[0mself\u001b[0m\u001b[0;34m)\u001b[0m\u001b[0;34m:\u001b[0m\u001b[0;34m\u001b[0m\u001b[0;34m\u001b[0m\u001b[0m\n",
      "\u001b[0;31mAttributeError\u001b[0m: 'Product' object has no attribute 'register'"
     ]
    }
   ],
   "source": [
    "from PySDM import Builder\n",
    "from PySDM.environments import Box\n",
    "from PySDM.dynamics import Coalescence\n",
    "from PySDM.dynamics.coalescence.kernels import Product\n",
    "from PySDM.backends import CPU\n",
    "from PySDM.products.state import ParticlesNumberVolumeSpectrum, KMoments, KthMoment\n",
    "\n",
    "# build the superdroplets\n",
    "builder = Builder(n_sd=n_sd, backend=CPU)\n",
    "builder.set_environment(Box(dt=dt_sim, dv=V_sim))\n",
    "builder.add_dynamic(Coalescence(kernel=Product(c=C)))\n",
    "products = [ParticlesNumberVolumeSpectrum(), KMoments(), KthMoment()]\n",
    "particles = builder.build(attributes, products)\n",
    "\n",
    "# plot initial distribution\n",
    "v_bins_edges = np.linspace((mean_particle_volume/10), (mean_particle_volume*10), num=100)\n",
    "m_bins_edges = v_bins_edges * rho_w / si.g\n",
    "\n",
    "for step in [0, int(end_step/2), end_step]:\n",
    "    particles.run(step - particles.n_steps)\n",
    "    pyplot.step(x=v_bins_edges[:-1],\n",
    "                y=particles.products['N(v)'].get(v_bins_edges),#/particles.products['Mk'].get(0),\n",
    "                where='post', label=f\"t = {step*dt_sim}s\")\n",
    "\n",
    "pyplot.xlabel('mass (g)')\n",
    "pyplot.ylabel(\"N\")\n",
    "pyplot.legend()\n",
    "pyplot.title(\"initial distribution\")"
   ]
  },
  {
   "cell_type": "markdown",
   "metadata": {},
   "source": [
    "## 3b. Product + Linear kernel"
   ]
  },
  {
   "cell_type": "code",
   "execution_count": null,
   "metadata": {},
   "outputs": [],
   "source": []
  }
 ],
 "metadata": {
  "kernelspec": {
   "display_name": "Python 3",
   "language": "python",
   "name": "python3"
  },
  "language_info": {
   "codemirror_mode": {
    "name": "ipython",
    "version": 3
   },
   "file_extension": ".py",
   "mimetype": "text/x-python",
   "name": "python",
   "nbconvert_exporter": "python",
   "pygments_lexer": "ipython3",
   "version": "3.8.5"
  }
 },
 "nbformat": 4,
 "nbformat_minor": 4
}
