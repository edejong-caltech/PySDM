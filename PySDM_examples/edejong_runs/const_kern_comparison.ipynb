{
 "cells": [
  {
   "cell_type": "code",
   "execution_count": 1,
   "metadata": {},
   "outputs": [
    {
     "name": "stderr",
     "output_type": "stream",
     "text": [
      "/home/edejong/.conda/envs/edjPySDM/lib/python3.8/site-packages/numba/np/ufunc/parallel.py:355: NumbaWarning: \u001b[1mThe TBB threading layer requires TBB version 2019.5 or later i.e., TBB_INTERFACE_VERSION >= 11005. Found TBB_INTERFACE_VERSION = 6103. The TBB threading layer is disabled.\u001b[0m\n",
      "  warnings.warn(problem)\n"
     ]
    }
   ],
   "source": [
    "import sys, os\n",
    "sys.path.append(os.path.join(os.getcwd(), '../..'))\n",
    "\n",
    "from PySDM.physics import si\n",
    "from PySDM.initialisation.spectral_sampling import ConstantMultiplicity\n",
    "from PySDM.initialisation.spectra import Gaussian\n",
    "from PySDM.physics.formulae import volume"
   ]
  },
  {
   "cell_type": "markdown",
   "metadata": {},
   "source": [
    "# 1. Constant Kernel = 0.01 / s"
   ]
  },
  {
   "cell_type": "code",
   "execution_count": 2,
   "metadata": {},
   "outputs": [
    {
     "data": {
      "text/plain": [
       "<matplotlib.legend.Legend at 0x7f13acbafaf0>"
      ]
     },
     "execution_count": 2,
     "metadata": {},
     "output_type": "execute_result"
    },
    {
     "data": {
      "image/png": "[encoded data removed]",
      "text/plain": [
       "<Figure size 432x288 with 1 Axes>"
      ]
     },
     "metadata": {
      "needs_background": "light"
     },
     "output_type": "display_data"
    }
   ],
   "source": [
    "n_sd = 2**17\n",
    "initial_spectrum = Gaussian(norm_factor=8.39e12, loc=15 * si.um**3, scale=5 * si.um**3)\n",
    "attributes = {}\n",
    "attributes['volume'], attributes['n'] =\\\n",
    "    ConstantMultiplicity(spectrum=initial_spectrum).sample(n_sd)\n",
    "\n",
    "from PySDM import Builder\n",
    "from PySDM.environments import Box\n",
    "from PySDM.dynamics import Coalescence\n",
    "from PySDM.dynamics.coalescence.kernels import ConstKern\n",
    "from PySDM.backends import CPU\n",
    "from PySDM.products.state import ParticlesVolumeSpectrum, ParticlesNumberVolumeSpectrum, KthMoment\n",
    "\n",
    "builder = Builder(n_sd=n_sd, backend=CPU)\n",
    "builder.set_environment(Box(dt=1 * si.s, dv=1))\n",
    "builder.add_dynamic(Coalescence(kernel=ConstKern(kernel_const = 0.01 / si.s)))\n",
    "products = [ParticlesVolumeSpectrum(), ParticlesNumberVolumeSpectrum(), KthMoment()]\n",
    "particles = builder.build(attributes, products)\n",
    "\n",
    "from PySDM.physics.constants import rho_w\n",
    "from matplotlib import pyplot\n",
    "import numpy as np\n",
    "\n",
    "v_bins_edges = np.linspace((1 * si.um**3), (200 * si.um**3), num=256)\n",
    "\n",
    "for step in [0, 1]:\n",
    "    particles.run(step - particles.n_steps)\n",
    "    pyplot.step(x=v_bins_edges[:-1] / si.um**3,\n",
    "                y=particles.products['N(v)'].get(v_bins_edges),\n",
    "                where='post', label=f\"t = {step}s\")\n",
    "                \n",
    "#pyplot.xscale('log')\n",
    "pyplot.xlabel('mass or volume')\n",
    "pyplot.ylabel(\"N\")\n",
    "pyplot.legend()"
   ]
  },
  {
   "cell_type": "markdown",
   "metadata": {},
   "source": [
    "kernel const * dt =\n",
    "\n",
    "(0.01 / sec) * 1 sec = 0.01\n",
    "\n",
    "versus for Shima 2009 example:\n",
    "198,000"
   ]
  },
  {
   "cell_type": "markdown",
   "metadata": {},
   "source": [
    "## Converting back to a function via Gaussian KDE\n",
    "Note that it seems that the scipy KDE function fails when n_sd > 2^11, possibly due to some maximum number of values it allows for the kde to be built. Tends to look bimodal when this is the input."
   ]
  },
  {
   "cell_type": "code",
   "execution_count": 3,
   "metadata": {},
   "outputs": [
    {
     "data": {
      "text/plain": [
       "[<matplotlib.lines.Line2D at 0x7f13b00419a0>]"
      ]
     },
     "execution_count": 3,
     "metadata": {},
     "output_type": "execute_result"
    },
    {
     "data": {
      "image/png": "[encoded data removed]",
      "text/plain": [
       "<Figure size 432x288 with 1 Axes>"
      ]
     },
     "metadata": {
      "needs_background": "light"
     },
     "output_type": "display_data"
    }
   ],
   "source": [
    "from scipy import stats\n",
    "\n",
    "## Interpolate it back to a smooth function\n",
    "final_counts = particles.products['N(v)'].get(v_bins_edges)\n",
    "n_drop_final = int(particles.products['Mk'].get(0))\n",
    "\n",
    "kde_pts = particles.particles.get_extensive_attrs().to_ndarray() / si.um**3\n",
    "kde = stats.gaussian_kde(kde_pts[0])\n",
    "\n",
    "x = np.linspace(0,200,500)\n",
    "y = kde(x)\n",
    "pyplot.plot(x ,y)\n",
    "pyplot.xlabel(\"mass or volume\")\n",
    "pyplot.ylabel(\"KDE PDF\")\n",
    "pyplot.step(v_bins_edges[:-1] / si.um**3, particles.products['N(v)'].get(v_bins_edges)/n_drop_final)"
   ]
  },
  {
   "cell_type": "markdown",
   "metadata": {},
   "source": [
    "## Distribution comparison:\n",
    "We have \n",
    "- kde(x), the superdroplets\n",
    "- rbf(x), the collocation method\n",
    "- mom(x), the original Cloudy MOM"
   ]
  },
  {
   "cell_type": "code",
   "execution_count": 4,
   "metadata": {},
   "outputs": [],
   "source": [
    "# import rbf from julia setup\n",
    "from scipy.stats import norm\n",
    "\n",
    "def gauss_basis(x, mean, stddev):\n",
    "    return norm.pdf(x, loc=mean, scale=stddev)\n",
    "\n",
    "def rbf_basis(x, constants, means, stddev):\n",
    "    N = len(means)\n",
    "    assert (len(stddev) == N)\n",
    "    assert (len(constants) == N)\n",
    "    pdf_result = 0\n",
    "    \n",
    "    for i in range(N):\n",
    "        pdf_result += constants[i]*gauss_basis(x, means[i], stddev[i])\n",
    "        \n",
    "    return pdf_result\n",
    "\n",
    "def rbf3(x):\n",
    "    means = [15.0, 38.72983346207418, 100.00000000000004]\n",
    "    stddev = [14.831145913796364, 38.29385408620366, 38.29385408620366]\n",
    "    c =  [-2.0807092242692423e-9, 0.6053386794806238, 0.39466132260008535]\n",
    "    return rbf_basis(x, c, means, stddev)\n",
    "\n",
    "def rbf6(x):\n",
    "    means =  [15.0, 21.921638274328885, 32.03721497536807, 46.82054920046206, 68.42554289186319, 100.00000000000004]\n",
    "    stddev = [5.0, 6.322235438149493, 9.239583890683742, 13.503121057125703, 19.734035692585532, 19.734035692585532]\n",
    "    c =  [0.05340701174070742, 0.007571670167403112, 0.09425153571627659, 0.19507673114462015, -1.9055478471156834e-8, 0.6496930702864712]\n",
    "    return rbf_basis(x, c, means, stddev)\n",
    "    \n",
    "def rbf10(x):\n",
    "    means =  [15.0, 18.51981630688223, 22.865573069377408, 28.231080866430858, 34.85562878606914, 43.034656158591815, 53.13292845913057, 65.60080499398758, 80.99432387148349, 100.00000000000004]\n",
    "    stddev = [5.0, 2.716097976559486, 3.353442373158406, 4.140342449773926, 5.111892107826672, 6.31142018783672, 7.792422834285633, 9.620949298434942, 11.878547580322847, 11.878547580322847]\n",
    "    c =  [0.06526275826039045, 0.004482566296582142, 0.027123490214170196, 0.03949229841248938, 0.04426841061653683, 0.06726775739557111, 0.046121814131719154, 0.17068940022476922, -2.294022732177068e-7, 0.5352917338500447]\n",
    "    return rbf_basis(x, c, means, stddev)\n",
    "    "
   ]
  },
  {
   "cell_type": "code",
   "execution_count": 5,
   "metadata": {},
   "outputs": [],
   "source": [
    "# import cloudy from julia setup\n",
    "def mom(x):\n",
    "    mean = 90.03\n",
    "    stddev = 83.07\n",
    "    return norm.pdf(x, loc=mean, scale=stddev)\n"
   ]
  },
  {
   "cell_type": "code",
   "execution_count": 6,
   "metadata": {},
   "outputs": [
    {
     "data": {
      "text/plain": [
       "<matplotlib.legend.Legend at 0x7f13afee10a0>"
      ]
     },
     "execution_count": 6,
     "metadata": {},
     "output_type": "execute_result"
    },
    {
     "data": {
      "image/png": "[encoded data removed]",
      "text/plain": [
       "<Figure size 432x288 with 1 Axes>"
      ]
     },
     "metadata": {
      "needs_background": "light"
     },
     "output_type": "display_data"
    }
   ],
   "source": [
    "# plot all of them\n",
    "x = np.linspace(0,200,500)\n",
    "ykde = kde(x)\n",
    "pyplot.plot(x ,ykde, label=\"PySDM\")\n",
    "ymom = mom(x)\n",
    "pyplot.plot(x, ymom, label=\"Gaussian MOM\")\n",
    "yrbf3 = rbf3(x)\n",
    "pyplot.plot(x, yrbf3, label=\"Collocation, N=3\")\n",
    "yrbf6 = rbf6(x)\n",
    "pyplot.plot(x, yrbf6, label=\"Collocation, N=6\")\n",
    "yrbf10 = rbf10(x)\n",
    "pyplot.plot(x, yrbf10, label=\"Collocation, N=10\")\n",
    "\n",
    "pyplot.xlabel(\"mass or volume\")\n",
    "pyplot.ylabel(\"PDF\")\n",
    "pyplot.legend()"
   ]
  },
  {
   "cell_type": "code",
   "execution_count": 7,
   "metadata": {},
   "outputs": [
    {
     "name": "stdout",
     "output_type": "stream",
     "text": [
      "PySDM:  0.0\n",
      "MOM:  2.0273903986164923\n",
      "RBF3:  1.5698907115715117\n",
      "RBF6:  1.6897104713016584\n",
      "RBF10:  1.7066371624525971\n"
     ]
    }
   ],
   "source": [
    "# KL Divergence of 2 metrics\n",
    "from scipy.stats import entropy\n",
    "\n",
    "def kl_div(qk, pk):\n",
    "    return entropy(qk, pk)\n",
    "\n",
    "print(\"PySDM: \", kl_div(ykde, ykde))\n",
    "print(\"MOM: \", kl_div(ykde, ymom))\n",
    "print(\"RBF3: \", kl_div(ykde, yrbf3))\n",
    "print(\"RBF6: \", kl_div(ykde, yrbf6))\n",
    "print(\"RBF10: \", kl_div(ykde, yrbf10))"
   ]
  },
  {
   "cell_type": "code",
   "execution_count": 24,
   "metadata": {},
   "outputs": [
    {
     "name": "stdout",
     "output_type": "stream",
     "text": [
      "PySDM:  0.0\n",
      "MOM:  0.055917219679108246\n",
      "RBF3:  0.05269681954121587\n",
      "RBF6:  0.052701217250456366\n",
      "RBF10:  0.0530099598292539\n"
     ]
    }
   ],
   "source": [
    "# KS test\n",
    "\n",
    "def ks_test(qk, pk):\n",
    "    dists = abs(qk - pk)\n",
    "    return max(dists)\n",
    "\n",
    "print(\"PySDM: \", ks_test(ykde, ykde))\n",
    "print(\"MOM: \", ks_test(ykde, ymom))\n",
    "print(\"RBF3: \", ks_test(ykde, yrbf3))\n",
    "print(\"RBF6: \", ks_test(ykde, yrbf6))\n",
    "print(\"RBF10: \", ks_test(ykde, yrbf10))"
   ]
  },
  {
   "cell_type": "code",
   "execution_count": 27,
   "metadata": {},
   "outputs": [
    {
     "name": "stdout",
     "output_type": "stream",
     "text": [
      "PySDM:  0.0\n",
      "MOM:  0.0071825171801885405\n",
      "RBF3:  0.007007087038488829\n",
      "RBF6:  0.00631502397973223\n",
      "RBF10:  0.005589653642965478\n"
     ]
    }
   ],
   "source": [
    "# W1 distance (empirical)\n",
    "from scipy.stats import wasserstein_distance\n",
    "\n",
    "def w1(qk, pk):\n",
    "    return wasserstein_distance(qk, pk)\n",
    "\n",
    "print(\"PySDM: \", w1(ykde, ykde))\n",
    "print(\"MOM: \", w1(ykde, ymom))\n",
    "print(\"RBF3: \", w1(ykde, yrbf3))\n",
    "print(\"RBF6: \", w1(ykde, yrbf6))\n",
    "print(\"RBF10: \", w1(ykde, yrbf10))"
   ]
  },
  {
   "cell_type": "markdown",
   "metadata": {},
   "source": [
    "## Ouputting Moments\n",
    "Either the k'th or the first k moments can be output with my defined state products."
   ]
  },
  {
   "cell_type": "code",
   "execution_count": 4,
   "metadata": {},
   "outputs": [
    {
     "name": "stdout",
     "output_type": "stream",
     "text": [
      "8222200037376.0\n",
      "4111100018688.0\n",
      "2055550009344.0\n",
      "0.00012333300056064086\n",
      "0.00012333300056064086\n",
      "0.00012333300056064086\n"
     ]
    }
   ],
   "source": [
    "# Save and print the moments, for example\n",
    "from PySDM.products.state import KthMoment\n",
    "\n",
    "builder = Builder(n_sd=n_sd, backend=CPU)\n",
    "builder.set_environment(Box(dt=1 * si.s, dv=1e6 * si.m**3))\n",
    "builder.add_dynamic(Coalescence(kernel=ConstKern(kernel_const = 0.01 / si.s)))\n",
    "products = [KthMoment()]\n",
    "particles = builder.build(attributes, products)\n",
    "\n",
    "k = 0\n",
    "for step in [0, 1, 2]:\n",
    "    particles.run(step - particles.n_steps)\n",
    "    print(particles.products['Mk'].get(k))\n",
    "    \n",
    "k = 1\n",
    "for step in [0, 1, 2]:\n",
    "    particles.run(step - particles.n_steps)\n",
    "    print(particles.products['Mk'].get(k))"
   ]
  },
  {
   "cell_type": "code",
   "execution_count": 15,
   "metadata": {},
   "outputs": [
    {
     "name": "stdout",
     "output_type": "stream",
     "text": [
      "[[8.22220004e+12 1.23333001e-04 2.02954011e-21]\n",
      " [4.11110002e+12 1.23333001e-04 3.87919435e-21]\n",
      " [2.05555001e+12 1.23333001e-04 7.57857591e-21]\n",
      " [1.02777500e+12 1.23333001e-04 1.49780474e-20]\n",
      " [5.13887502e+11 1.23333001e-04 2.97791933e-20]]\n",
      "[[ 1.          1.          1.        ]\n",
      " [ 0.5         1.          1.9113662 ]\n",
      " [ 0.25        1.          3.73413459]\n",
      " [ 0.125       1.          7.38002043]\n",
      " [ 0.0625      1.         14.67287747]]\n"
     ]
    },
    {
     "data": {
      "text/plain": [
       "<matplotlib.legend.Legend at 0x7f130fd6a1c0>"
      ]
     },
     "execution_count": 15,
     "metadata": {},
     "output_type": "execute_result"
    },
    {
     "data": {
      "image/png": "[encoded data removed]",
      "text/plain": [
       "<Figure size 432x288 with 1 Axes>"
      ]
     },
     "metadata": {
      "needs_background": "light"
     },
     "output_type": "display_data"
    }
   ],
   "source": [
    "# Plot the moments over time\n",
    "n_time = 5\n",
    "from PySDM.products.state import KMoments\n",
    "\n",
    "builder = Builder(n_sd=n_sd, backend=CPU)\n",
    "builder.set_environment(Box(dt=1 * si.s, dv=1))\n",
    "builder.add_dynamic(Coalescence(kernel=ConstKern(kernel_const = 10000 / si.s)))\n",
    "products = [KMoments()]\n",
    "particles = builder.build(attributes, products)\n",
    "\n",
    "k = 3\n",
    "tsteps = range(n_time)\n",
    "Mk = np.zeros((len(tsteps), k))\n",
    "Mk_norm = np.zeros((len(tsteps), k))\n",
    "\n",
    "\n",
    "for i, step in enumerate(tsteps):\n",
    "    particles.run(step - particles.n_steps)\n",
    "    Mk[i,:] = (particles.products['M0-Mk'].get(k))\n",
    "    Mk_norm[i,:] = Mk[i,:] / Mk[0,:]\n",
    "print(Mk)\n",
    "print(Mk_norm) \n",
    "\n",
    "for j in range(k):\n",
    "    pyplot.scatter([t/(n_time-1) for t in tsteps], Mk_norm[:,j], label=f\"M_{j}\")\n",
    "    \n",
    "pyplot.legend()"
   ]
  },
  {
   "cell_type": "code",
   "execution_count": null,
   "metadata": {},
   "outputs": [],
   "source": []
  }
 ],
 "metadata": {
  "kernelspec": {
   "display_name": "Python 3",
   "language": "python",
   "name": "python3"
  },
  "language_info": {
   "codemirror_mode": {
    "name": "ipython",
    "version": 3
   },
   "file_extension": ".py",
   "mimetype": "text/x-python",
   "name": "python",
   "nbconvert_exporter": "python",
   "pygments_lexer": "ipython3",
   "version": "3.8.5"
  }
 },
 "nbformat": 4,
 "nbformat_minor": 4
}
