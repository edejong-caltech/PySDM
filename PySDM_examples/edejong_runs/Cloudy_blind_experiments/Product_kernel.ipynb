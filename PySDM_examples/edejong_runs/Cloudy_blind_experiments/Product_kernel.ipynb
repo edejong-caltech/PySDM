{
 "cells": [
  {
   "cell_type": "code",
   "execution_count": 1,
   "id": "cellular-jersey",
   "metadata": {},
   "outputs": [],
   "source": [
    "import sys, os\n",
    "sys.path.append(os.path.join(os.getcwd(), '../../..'))\n",
    "\n",
    "from PySDM.physics import si\n",
    "from PySDM.physics.formulae import volume\n",
    "import numpy as np\n",
    "from matplotlib import pyplot\n",
    "from PySDM.physics.constants import rho_w"
   ]
  },
  {
   "cell_type": "markdown",
   "id": "fleet-trial",
   "metadata": {},
   "source": [
    "## a. Product only"
   ]
  },
  {
   "cell_type": "code",
   "execution_count": 4,
   "id": "educated-display",
   "metadata": {},
   "outputs": [
    {
     "data": {
      "text/plain": [
       "Text(0.5, 1.0, 'initial distribution')"
      ]
     },
     "execution_count": 4,
     "metadata": {},
     "output_type": "execute_result"
    },
    {
     "data": {
      "image/png": "[encoded data removed]",
      "text/plain": [
       "<Figure size 432x288 with 1 Axes>"
      ]
     },
     "metadata": {
      "needs_background": "light"
     },
     "output_type": "display_data"
    }
   ],
   "source": [
    "# Set desired constants\n",
    "from PySDM.physics import si\n",
    "A      = 0.00 \n",
    "B      = 0.00\n",
    "C      = 2.0e12 * si.cm**3 / si.g / si.g / si.s * rho_w * rho_w\n",
    "dt_sim = 1 * si.s      # time step\n",
    "T_sim  = 1200 * si.s   # total time of simulation\n",
    "n_sd   = 2**14           # number of superdroplets\n",
    "N0_perV = 1e4 / si.cm**3 # initial density: number / cm^3\n",
    "N0     = 2e8             # initial number of droplets\n",
    "V_sim  = N0 / N0_perV    # simulation box volume\n",
    "end_step = int(T_sim / dt_sim)\n",
    "\n",
    "# initial distribution\n",
    "mean_particle_mass = 0.33e-9 * si.g\n",
    "stdev_particle_mass = 0.33e-9 * si.g\n",
    "\n",
    "# convert to volume\n",
    "mean_particle_volume = mean_particle_mass / rho_w\n",
    "stdev_particle_volume = stdev_particle_mass / rho_w\n",
    "\n",
    "# get gamma distribution parameters\n",
    "k_shape = (mean_particle_volume / stdev_particle_volume)**2\n",
    "theta_scale = stdev_particle_volume**2/mean_particle_volume\n",
    "\n",
    "from PySDM.initialisation.spectra import Gamma\n",
    "from PySDM.initialisation.spectral_sampling import ConstantMultiplicity\n",
    "\n",
    "# initial distribution\n",
    "initial_spectrum = Gamma(norm_factor=N0, k=k_shape, theta=theta_scale)\n",
    "attributes = {}\n",
    "attributes['volume'], attributes['n'] =\\\n",
    "    ConstantMultiplicity(spectrum=initial_spectrum).sample(n_sd)\n",
    "\n",
    "from PySDM import Builder\n",
    "from PySDM.environments import Box\n",
    "from PySDM.dynamics import Coalescence\n",
    "from PySDM.dynamics.coalescence.kernels import Product\n",
    "from PySDM.backends import CPU\n",
    "from PySDM.products.state import ParticlesNumberVolumeSpectrum, KMoments, KthMoment\n",
    "\n",
    "# build the superdroplets\n",
    "builder = Builder(n_sd=n_sd, backend=CPU)\n",
    "builder.set_environment(Box(dt=dt_sim, dv=V_sim))\n",
    "builder.add_dynamic(Coalescence(kernel=Product(c=C)))\n",
    "products = [ParticlesNumberVolumeSpectrum(), KMoments(), KthMoment()]\n",
    "particles = builder.build(attributes, products)\n",
    "\n",
    "# plot initial distribution\n",
    "v_bins_edges = np.linspace((mean_particle_volume/10), (mean_particle_volume*10), num=100)\n",
    "m_bins_edges = v_bins_edges * rho_w / si.g\n",
    "\n",
    "for step in [0, int(end_step/2), end_step]:\n",
    "    particles.run(step - particles.n_steps)\n",
    "    pyplot.step(x=v_bins_edges[:-1],\n",
    "                y=particles.products['N(v)'].get(v_bins_edges),#/particles.products['Mk'].get(0),\n",
    "                where='post', label=f\"t = {step*dt_sim}s\")\n",
    "\n",
    "pyplot.xlabel('mass (g)')\n",
    "pyplot.ylabel(\"N\")\n",
    "pyplot.legend()\n",
    "pyplot.title(\"initial distribution\")"
   ]
  },
  {
   "cell_type": "markdown",
   "id": "marine-watershed",
   "metadata": {},
   "source": [
    "## b. product + linear"
   ]
  },
  {
   "cell_type": "code",
   "execution_count": 9,
   "id": "western-theme",
   "metadata": {},
   "outputs": [
    {
     "data": {
      "text/plain": [
       "Text(0.5, 1.0, 'initial distribution')"
      ]
     },
     "execution_count": 9,
     "metadata": {},
     "output_type": "execute_result"
    },
    {
     "data": {
      "image/png": "[encoded data removed]",
      "text/plain": [
       "<Figure size 432x288 with 1 Axes>"
      ]
     },
     "metadata": {
      "needs_background": "light"
     },
     "output_type": "display_data"
    }
   ],
   "source": [
    "# Set desired constants\n",
    "from PySDM.physics import si\n",
    "A      = 5.0e-12 * si.cm**3 / si.s \n",
    "B      = 1.00e1 * si.cm**3 / si.g / si.s * rho_w\n",
    "C      = 2.0e12 * si.cm**3 / si.g / si.g / si.s * rho_w * rho_w\n",
    "dt_sim = 1 * si.s      # time step\n",
    "T_sim  = 1200 * si.s   # total time of simulation\n",
    "n_sd   = 2**14           # number of superdroplets\n",
    "N0_perV = 1e4 / si.cm**3 # initial density: number / cm^3\n",
    "N0     = 2e8             # initial number of droplets\n",
    "V_sim  = N0 / N0_perV    # simulation box volume\n",
    "end_step = int(T_sim / dt_sim)\n",
    "\n",
    "# initial distribution\n",
    "mean_particle_mass = 0.33e-9 * si.g\n",
    "stdev_particle_mass = 0.33e-9 * si.g\n",
    "\n",
    "# convert to volume\n",
    "mean_particle_volume = mean_particle_mass / rho_w\n",
    "stdev_particle_volume = stdev_particle_mass / rho_w\n",
    "\n",
    "# get gamma distribution parameters\n",
    "k_shape = (mean_particle_volume / stdev_particle_volume)**2\n",
    "theta_scale = stdev_particle_volume**2/mean_particle_volume\n",
    "\n",
    "from PySDM.initialisation.spectra import Gamma\n",
    "from PySDM.initialisation.spectral_sampling import ConstantMultiplicity\n",
    "\n",
    "# initial distribution\n",
    "initial_spectrum = Gamma(norm_factor=N0, k=k_shape, theta=theta_scale)\n",
    "attributes = {}\n",
    "attributes['volume'], attributes['n'] =\\\n",
    "    ConstantMultiplicity(spectrum=initial_spectrum).sample(n_sd)\n",
    "\n",
    "from PySDM import Builder\n",
    "from PySDM.environments import Box\n",
    "from PySDM.dynamics import Coalescence\n",
    "from PySDM.dynamics.coalescence.kernels import Polynomial\n",
    "from PySDM.backends import CPU\n",
    "from PySDM.products.state import ParticlesNumberVolumeSpectrum, KMoments, KthMoment\n",
    "\n",
    "# build the superdroplets\n",
    "builder = Builder(n_sd=n_sd, backend=CPU)\n",
    "builder.set_environment(Box(dt=dt_sim, dv=V_sim))\n",
    "builder.add_dynamic(Coalescence(kernel=Polynomial(params=(A, B, C))))\n",
    "products = [ParticlesNumberVolumeSpectrum(), KMoments(), KthMoment()]\n",
    "particles = builder.build(attributes, products)\n",
    "\n",
    "# plot initial distribution\n",
    "v_bins_edges = np.linspace((mean_particle_volume/10), (mean_particle_volume*10), num=100)\n",
    "m_bins_edges = v_bins_edges * rho_w / si.g\n",
    "\n",
    "for step in [0, int(end_step/2), end_step]:\n",
    "    particles.run(step - particles.n_steps)\n",
    "    pyplot.step(x=v_bins_edges[:-1],\n",
    "                y=particles.products['N(v)'].get(v_bins_edges),#/particles.products['Mk'].get(0),\n",
    "                where='post', label=f\"t = {step*dt_sim}s\")\n",
    "\n",
    "pyplot.xlabel('mass (g)')\n",
    "pyplot.ylabel(\"N\")\n",
    "pyplot.legend()\n",
    "pyplot.title(\"initial distribution\")"
   ]
  },
  {
   "cell_type": "markdown",
   "id": "presidential-cemetery",
   "metadata": {},
   "source": [
    "# Runs for Melanie"
   ]
  },
  {
   "cell_type": "markdown",
   "id": "oriental-header",
   "metadata": {},
   "source": [
    "Form of kernel:\n",
    "$K(x,y) = A + B(x+y) + Cxy$\n",
    "\n",
    "A = 4.0e-12 cm3/sec;  B = 4.0e-3 cm3/g/s;   C = 4.0e-1 cm^3/g/s\n",
    "\n",
    "Initial distribution: mean mass = 0.33e-9g, std dev -.33e-9g, N0 = 1e4 particles; gamma distribution\n",
    "\n",
    "t_end = 80*1e6\n",
    "\n",
    "M0 = 1e4, M1 = 3.3e-6, M2 = 2.178e-15\n"
   ]
  },
  {
   "cell_type": "code",
   "execution_count": 19,
   "id": "electrical-referral",
   "metadata": {},
   "outputs": [
    {
     "data": {
      "text/plain": [
       "Text(0.5, 1.0, 'particle distribution')"
      ]
     },
     "execution_count": 19,
     "metadata": {},
     "output_type": "execute_result"
    },
    {
     "data": {
      "image/png": "[encoded data removed]",
      "text/plain": [
       "<Figure size 432x288 with 1 Axes>"
      ]
     },
     "metadata": {
      "needs_background": "light"
     },
     "output_type": "display_data"
    }
   ],
   "source": [
    "# Set desired constants\n",
    "from PySDM.physics import si\n",
    "A      = 4.0e-12 * si.cm**3 / si.s \n",
    "B      = 4.0e-3 * si.cm**3 / si.g / si.s * rho_w\n",
    "C      = 4.0e1 * si.cm**3 / si.g / si.g / si.s * rho_w * rho_w\n",
    "dt_sim = 1e5 * si.s      # time step\n",
    "T_sim  = 80*1e6 * si.s   # total time of simulation\n",
    "n_sd   = 2**14           # number of superdroplets\n",
    "N0_perV = 1e4 / si.cm**3 # initial density: number / cm^3\n",
    "N0     = 2e8             # initial number of droplets\n",
    "V_sim  = N0 / N0_perV    # simulation box volume\n",
    "end_step = int(T_sim / dt_sim)\n",
    "\n",
    "# initial distribution\n",
    "mean_particle_mass = 0.33e-9 * si.g\n",
    "stdev_particle_mass = 0.33e-9 * si.g\n",
    "\n",
    "# convert to volume\n",
    "mean_particle_volume = mean_particle_mass / rho_w\n",
    "stdev_particle_volume = stdev_particle_mass / rho_w\n",
    "\n",
    "# get gamma distribution parameters\n",
    "k_shape = (mean_particle_volume / stdev_particle_volume)**2\n",
    "theta_scale = stdev_particle_volume**2/mean_particle_volume\n",
    "\n",
    "from PySDM.initialisation.spectra import Gamma\n",
    "from PySDM.initialisation.spectral_sampling import ConstantMultiplicity\n",
    "\n",
    "# initial distribution\n",
    "initial_spectrum = Gamma(norm_factor=N0, k=k_shape, theta=theta_scale)\n",
    "attributes = {}\n",
    "attributes['volume'], attributes['n'] =\\\n",
    "    ConstantMultiplicity(spectrum=initial_spectrum).sample(n_sd)\n",
    "\n",
    "from PySDM import Builder\n",
    "from PySDM.environments import Box\n",
    "from PySDM.dynamics import Coalescence\n",
    "from PySDM.dynamics.coalescence.kernels import Polynomial\n",
    "from PySDM.backends import CPU\n",
    "from PySDM.products.state import ParticlesVolumeSpectrum, ParticlesNumberVolumeSpectrum, KMoments, KthMoment\n",
    "\n",
    "# build the superdroplets\n",
    "builder = Builder(n_sd=n_sd, backend=CPU)\n",
    "builder.set_environment(Box(dt=dt_sim, dv=V_sim))\n",
    "builder.add_dynamic(Coalescence(kernel=Polynomial(params=(A, B, C))))\n",
    "products = [ParticlesVolumeSpectrum(), ParticlesNumberVolumeSpectrum(), KMoments(), KthMoment()]\n",
    "particles = builder.build(attributes, products)\n",
    "\n",
    "# plot initial distribution\n",
    "v_bins_edges = np.linspace((mean_particle_volume/10), (mean_particle_volume*100), num=100)\n",
    "m_bins_edges = v_bins_edges * rho_w / si.g\n",
    "r_bins_edges = (v_bins_edges*3/4/np.pi)**(1/3)\n",
    "\n",
    "for step in [0, int(end_step/2), end_step]:\n",
    "    particles.run(step - particles.n_steps)\n",
    "    pyplot.step(x=v_bins_edges[:-1],\n",
    "                y=particles.products['dv/dlnr'].get(r_bins_edges),\n",
    "                where='post', label=f\"t = {step*dt_sim}s\")\n",
    "\n",
    "pyplot.xlabel('mass (g)')\n",
    "pyplot.ylabel(\"dv/dlnr\")\n",
    "pyplot.legend()\n",
    "pyplot.title(\"particle distribution\")"
   ]
  },
  {
   "cell_type": "code",
   "execution_count": 28,
   "id": "fitted-battle",
   "metadata": {},
   "outputs": [],
   "source": [
    "N_runs = 10\n",
    "k_mom = 6\n",
    "\n",
    "#[[initial moments 1, final moments 1],\n",
    "#  initial moments 2, final moments 2], ...]\n",
    "\n",
    "moments = np.zeros((N_runs, k_mom*2))\n",
    "header1 = \"\"\n",
    "header2 = \"\"\n",
    "\n",
    "for run_num in range(N_runs):\n",
    "    # reinitialize the SD\n",
    "    builder = Builder(n_sd=n_sd, backend=CPU)\n",
    "    builder.set_environment(Box(dt=dt_sim, dv=V_sim))\n",
    "    builder.add_dynamic(Coalescence(kernel=Polynomial((A, B, C))))\n",
    "    products = [ParticlesNumberVolumeSpectrum(), KMoments()]\n",
    "    particles = builder.build(attributes, products)\n",
    "    \n",
    "    # add the initial moments to the array\n",
    "    step = 0\n",
    "    particles.run(step - particles.n_steps)\n",
    "    moments[run_num, 0:k_mom] = particles.products['M0-Mk'].get(k_mom)\n",
    "    \n",
    "    # add the final moments to the array\n",
    "    step = end_step\n",
    "    particles.run(step - particles.n_steps)\n",
    "    moments[run_num, k_mom:2*k_mom] = particles.products['M0-Mk'].get(k_mom)\n",
    "    \n",
    "# convert moments to mass per cm^3 and make the header\n",
    "for i in range(k_mom):\n",
    "    moments[:,i] *= ((rho_w / si.g)**i / (V_sim / si.cm**3))\n",
    "    moments[:,i + k_mom] *= ((rho_w / si.g)**i / (V_sim / si.cm**3))\n",
    "    header1 = header1 + \"M\" + str(i) + \"(0) #/cm3, \"\n",
    "    header2 = header2 + \"M\" + str(i) + \"(end) #/cm3, \"\n",
    "\n",
    "# save the data\n",
    "np.savetxt('product_kernel_6mom.out', moments, header=header1 + header2)"
   ]
  },
  {
   "cell_type": "code",
   "execution_count": null,
   "id": "lesser-pricing",
   "metadata": {},
   "outputs": [],
   "source": []
  }
 ],
 "metadata": {
  "kernelspec": {
   "display_name": "Python 3",
   "language": "python",
   "name": "python3"
  },
  "language_info": {
   "codemirror_mode": {
    "name": "ipython",
    "version": 3
   },
   "file_extension": ".py",
   "mimetype": "text/x-python",
   "name": "python",
   "nbconvert_exporter": "python",
   "pygments_lexer": "ipython3",
   "version": "3.8.5"
  }
 },
 "nbformat": 4,
 "nbformat_minor": 5
}
