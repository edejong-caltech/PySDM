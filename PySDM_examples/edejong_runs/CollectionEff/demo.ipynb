{
 "cells": [
  {
   "cell_type": "code",
   "execution_count": 4,
   "id": "damaged-classics",
   "metadata": {},
   "outputs": [
    {
     "data": {
      "text/plain": [
       "{0: array([2.38995046e+09, 2.84868250e-04, 6.78569436e-17]),\n",
       " 1200: array([ 3.61000000e+02,  1.85138571e+30, -3.71624286e+41])}"
      ]
     },
     "execution_count": 4,
     "metadata": {},
     "output_type": "execute_result"
    }
   ],
   "source": [
    "import sys, os\n",
    "cwd = os.getcwd()\n",
    "sys.path.insert(0, os.path.join(cwd, '../../..'))\n",
    "from PySDM_examples.edejong_runs.CollectionEff.settings import Settings\n",
    "from PySDM_examples.edejong_runs.CollectionEff.collectionEff import run\n",
    "\n",
    "settings = Settings()\n",
    "\n",
    "run(settings, A=1, B=1, D1=0, D2=0, E1=0, E2=0, F1=0, F2=0, G1=0, G2=0, G3=0, Mf=0, Mg=0)"
   ]
  },
  {
   "cell_type": "code",
   "execution_count": null,
   "id": "automatic-landing",
   "metadata": {},
   "outputs": [],
   "source": []
  },
  {
   "cell_type": "code",
   "execution_count": null,
   "id": "expanded-utility",
   "metadata": {},
   "outputs": [],
   "source": []
  }
 ],
 "metadata": {
  "kernelspec": {
   "display_name": "Python 3",
   "language": "python",
   "name": "python3"
  },
  "language_info": {
   "codemirror_mode": {
    "name": "ipython",
    "version": 3
   },
   "file_extension": ".py",
   "mimetype": "text/x-python",
   "name": "python",
   "nbconvert_exporter": "python",
   "pygments_lexer": "ipython3",
   "version": "3.8.5"
  }
 },
 "nbformat": 4,
 "nbformat_minor": 5
}
