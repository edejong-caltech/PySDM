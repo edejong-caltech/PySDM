{
 "cells": [
  {
   "cell_type": "markdown",
   "metadata": {},
   "source": [
    "# Superdroplet experiments for Cloudy CES & Comparison\n",
    "Box model setup with collision coalescence only. Given user-defined initial condition and kernel."
   ]
  },
  {
   "cell_type": "code",
   "execution_count": 23,
   "metadata": {},
   "outputs": [],
   "source": [
    "import sys, os\n",
    "sys.path.append(os.path.join(os.getcwd(), '../..'))\n",
    "\n",
    "from PySDM.physics import si\n",
    "from PySDM.physics.formulae import volume"
   ]
  },
  {
   "cell_type": "markdown",
   "metadata": {},
   "source": [
    "## 1. Linear Kernel, gamma distribution"
   ]
  },
  {
   "cell_type": "code",
   "execution_count": 80,
   "metadata": {},
   "outputs": [
    {
     "data": {
      "text/plain": [
       "<matplotlib.legend.Legend at 0x7f412bcc8310>"
      ]
     },
     "execution_count": 80,
     "metadata": {},
     "output_type": "execute_result"
    },
    {
     "data": {
      "image/png": "[encoded data removed]",
      "text/plain": [
       "<Figure size 432x288 with 1 Axes>"
      ]
     },
     "metadata": {
      "needs_background": "light"
     },
     "output_type": "display_data"
    }
   ],
   "source": [
    "from PySDM.initialisation.spectral_sampling import ConstantMultiplicity\n",
    "from PySDM.initialisation.spectra import Gamma\n",
    "\n",
    "n_sd = 2**13\n",
    "initial_spectrum = Gamma(norm_factor=8.39e12, shape=0.0817, scale= 1.5597 * si.um**3)\n",
    "attributes = {}\n",
    "attributes['volume'], attributes['n'] =\\\n",
    "    ConstantMultiplicity(spectrum=initial_spectrum).sample(n_sd)\n",
    "kernel_b = 1/3.14/4\n",
    "\n",
    "from PySDM import Builder\n",
    "from PySDM.environments import Box\n",
    "from PySDM.dynamics import Coalescence\n",
    "from PySDM.dynamics.coalescence.kernels import Golovin\n",
    "from PySDM.backends import CPU\n",
    "from PySDM.products.state import ParticlesNumberVolumeSpectrum, KthMoment\n",
    "\n",
    "builder = Builder(n_sd=n_sd, backend=CPU)\n",
    "builder.set_environment(Box(dt=1 * si.s, dv=1e6 * si.m**3))\n",
    "builder.add_dynamic(Coalescence(kernel=ConstKern(kernel_const = 0.01 / si.s)))\n",
    "products = [ParticlesNumberVolumeSpectrum(), KthMoment()]\n",
    "particles = builder.build(attributes, products)\n",
    "\n",
    "from PySDM.physics.constants import rho_w\n",
    "from matplotlib import pyplot\n",
    "import numpy as np\n",
    "from scipy import stats\n",
    "\n",
    "v_bins_edges = np.logspace(np.log10(0.001 * si.um**3), np.log10(10.0 * si.um**3), num=50)\n",
    "\n",
    "plot_opt = \"kde\"\n",
    "\n",
    "for step in [0, 1]:\n",
    "    particles.run(step - particles.n_steps)\n",
    "    if (plot_opt == \"kde\"):\n",
    "        final_counts = particles.products['N(v)'].get(v_bins_edges)\n",
    "        n_drop_final = int(particles.products['Mk'].get(0))\n",
    "\n",
    "        kde_pts = particles.particles.get_extensive_attrs().to_ndarray() / si.um**3\n",
    "        kde = stats.gaussian_kde(kde_pts[0])\n",
    "\n",
    "        x = np.linspace(0, 1.0, 100)\n",
    "        y = kde(x)\n",
    "        pyplot.plot(x ,y, label=f\"t = {step}s\")\n",
    "    else:\n",
    "        pyplot.step(x=v_bins_edges[:-1] / si.um**3,\n",
    "                y=particles.products['N(v)'].get(v_bins_edges),\n",
    "                where='post', label=f\"t = {step}s\")\n",
    "                \n",
    "#pyplot.xscale('log')\n",
    "pyplot.xlabel('mass or volume')\n",
    "pyplot.ylabel(\"N\")\n",
    "pyplot.legend()"
   ]
  },
  {
   "cell_type": "code",
   "execution_count": null,
   "metadata": {},
   "outputs": [],
   "source": [
    "## Extract and plot the moments over time"
   ]
  }
 ],
 "metadata": {
  "kernelspec": {
   "display_name": "Python 3",
   "language": "python",
   "name": "python3"
  },
  "language_info": {
   "codemirror_mode": {
    "name": "ipython",
    "version": 3
   },
   "file_extension": ".py",
   "mimetype": "text/x-python",
   "name": "python",
   "nbconvert_exporter": "python",
   "pygments_lexer": "ipython3",
   "version": "3.8.5"
  }
 },
 "nbformat": 4,
 "nbformat_minor": 4
}
