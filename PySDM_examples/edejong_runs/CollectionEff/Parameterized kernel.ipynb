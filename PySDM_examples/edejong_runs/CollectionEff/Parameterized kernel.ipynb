{
 "cells": [
  {
   "cell_type": "code",
   "execution_count": 1,
   "id": "tight-greeting",
   "metadata": {},
   "outputs": [],
   "source": [
    "import sys, os\n",
    "sys.path.append(os.path.join(os.getcwd(), '../../..'))\n",
    "\n",
    "# basics\n",
    "from PySDM.physics import si\n",
    "from PySDM.physics import formulae as phys\n",
    "import numpy as np\n",
    "from matplotlib import pyplot\n",
    "from PySDM.physics.constants import rho_w\n",
    "\n",
    "# sampling\n",
    "from PySDM.initialisation.spectra import Exponential\n",
    "from PySDM.initialisation.spectral_sampling import ConstantMultiplicity\n",
    "\n",
    "# environment\n",
    "from PySDM import Builder\n",
    "from PySDM.environments import Box\n",
    "\n",
    "# dynamics\n",
    "from PySDM.dynamics import Coalescence\n",
    "from PySDM.dynamics.coalescence.kernels import SpecifiedEff\n",
    "from PySDM.backends import CPU\n",
    "from PySDM.products.state import ParticlesVolumeSpectrum, KMoments"
   ]
  },
  {
   "cell_type": "code",
   "execution_count": 4,
   "id": "coral-spotlight",
   "metadata": {},
   "outputs": [],
   "source": [
    "###### SPECIFY SETUP ########\n",
    "# Kernel Constants: none to specify for hydrodynamic\n",
    "A = 1\n",
    "B = 0\n",
    "D1 = -27\n",
    "D2 = 1.64\n",
    "E1 = 0\n",
    "E2 = 0 \n",
    "F1 = 0\n",
    "F2 = 0\n",
    "G1 = 0 \n",
    "G2 = 0\n",
    "G3 = 0\n",
    "Mf = 0\n",
    "Mg = 0\n",
    "kernel = SpecifiedEff(A=A, B=B, D1=D1, D2=D2, E1=E1, E2=E2, F1=F1, F2=F2, G1=G1, G2=G2, G3=G3, Mf=Mf, Mg=Mg)\n",
    "\n",
    "# Simulation constants\n",
    "n_sd = 2 ** 13           # number of superdroplets\n",
    "n_part = 239 / si.cm**3  # particle density\n",
    "dv = 1e1 * si.metres**3  # box size\n",
    "norm_factor = n_part * dv # number of particles to represent\n",
    "dt = 1 * si.seconds\n",
    "output_steps = [200 * i for i in range(10)]\n",
    "\n",
    "# initial distribution\n",
    "X0 = 4 / 3 * np.pi * (10 * si.micrometres) ** 3\n",
    "\n",
    "\n",
    "###### INITIALISE ########\n",
    "# initial distribution\n",
    "initial_spectrum = Exponential(norm_factor=norm_factor, scale=X0)\n",
    "attributes = {}\n",
    "attributes['volume'], attributes['n'] = ConstantMultiplicity(spectrum=initial_spectrum).sample(n_sd)\n",
    "\n",
    "# build the superdroplets\n",
    "builder = Builder(n_sd=n_sd, backend=CPU)\n",
    "builder.set_environment(Box(dt=dt, dv=dv))\n",
    "builder.add_dynamic(Coalescence(kernel=kernel))\n",
    "products = [ParticlesVolumeSpectrum(), KMoments()]\n",
    "core = builder.build(attributes, products)\n",
    "\n",
    "# plot initial distribution\n",
    "radius_bins_edges = np.logspace(np.log10(3.94 * si.um), np.log10(220 * si.um), num=100, endpoint=True)"
   ]
  },
  {
   "cell_type": "code",
   "execution_count": 12,
   "id": "champion-denmark",
   "metadata": {},
   "outputs": [
    {
     "name": "stdout",
     "output_type": "stream",
     "text": [
      "[2.38995046e+09 1.00096977e-05 8.37814975e-20]\n",
      "[2.36413130e+09 1.00096977e-05 8.70461113e-20]\n",
      "[2.33203968e+09 1.00096977e-05 9.29025585e-20]\n",
      "[2.30140677e+09 1.00096977e-05 9.77857490e-20]\n",
      "[2.26814818e+09 1.00096977e-05 1.04737527e-19]\n",
      "[2.22599146e+09 1.00096977e-05 1.14408780e-19]\n",
      "[2.18150081e+09 1.00096977e-05 1.26214525e-19]\n",
      "[2.13759365e+09 1.00096977e-05 1.44617591e-19]\n",
      "[2.08493421e+09 1.00096977e-05 1.80660024e-19]\n",
      "[2.02078746e+09 1.00096977e-05 2.47239706e-19]\n"
     ]
    }
   ],
   "source": [
    "###### RUN AND OUTPUT MOMENTS ######\n",
    "for step in output_steps:\n",
    "    core.run(step - core.n_steps)\n",
    "    print(core.products['M0-Mk'].get(3))"
   ]
  },
  {
   "cell_type": "code",
   "execution_count": 5,
   "id": "atlantic-receptor",
   "metadata": {},
   "outputs": [
    {
     "data": {
      "text/plain": [
       "<matplotlib.legend.Legend at 0x7fe2a8835be0>"
      ]
     },
     "execution_count": 5,
     "metadata": {},
     "output_type": "execute_result"
    },
    {
     "data": {
      "image/png": "[encoded data removed]",
      "text/plain": [
       "<Figure size 432x288 with 1 Axes>"
      ]
     },
     "metadata": {
      "needs_background": "light"
     },
     "output_type": "display_data"
    }
   ],
   "source": [
    "###### RUN AND PLOT #######\n",
    "# step forward in time and plot\n",
    "vals = {}\n",
    "for step in output_steps:\n",
    "    core.run(step - core.n_steps)\n",
    "    vals[step] = core.products['dv/dlnr'].get(radius_bins_edges)\n",
    "    vals[step][:] *= rho_w\n",
    "    pyplot.step(x=radius_bins_edges[:-1],\n",
    "                y=vals[step],#/particles.products['Mk'].get(0),\n",
    "                where='post', label=f\"t = {step*dt}s\")\n",
    "\n",
    "pyplot.xlabel('radius (µm)')\n",
    "pyplot.ylabel(\"dN/dlnr\")\n",
    "pyplot.legend()"
   ]
  },
  {
   "cell_type": "code",
   "execution_count": null,
   "id": "initial-cologne",
   "metadata": {},
   "outputs": [],
   "source": []
  }
 ],
 "metadata": {
  "kernelspec": {
   "display_name": "Python 3",
   "language": "python",
   "name": "python3"
  },
  "language_info": {
   "codemirror_mode": {
    "name": "ipython",
    "version": 3
   },
   "file_extension": ".py",
   "mimetype": "text/x-python",
   "name": "python",
   "nbconvert_exporter": "python",
   "pygments_lexer": "ipython3",
   "version": "3.8.5"
  }
 },
 "nbformat": 4,
 "nbformat_minor": 5
}
