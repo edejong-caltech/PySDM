{
 "cells": [
  {
   "cell_type": "code",
   "execution_count": 1,
   "metadata": {},
   "outputs": [
    {
     "name": "stderr",
     "output_type": "stream",
     "text": [
      "/home/edejong/.conda/envs/edjPySDM/lib/python3.8/site-packages/numba/np/ufunc/parallel.py:355: NumbaWarning: \u001b[1mThe TBB threading layer requires TBB version 2019.5 or later i.e., TBB_INTERFACE_VERSION >= 11005. Found TBB_INTERFACE_VERSION = 6103. The TBB threading layer is disabled.\u001b[0m\n",
      "  warnings.warn(problem)\n"
     ]
    }
   ],
   "source": [
    "import sys, os\n",
    "sys.path.append(os.path.join(os.getcwd(), '../..'))\n",
    "\n",
    "from PySDM.physics import si\n",
    "from PySDM.initialisation.spectral_sampling import ConstantMultiplicity\n",
    "from PySDM.initialisation.spectra import Gamma, Gaussian\n",
    "from PySDM.physics.formulae import volume"
   ]
  },
  {
   "cell_type": "code",
   "execution_count": 2,
   "metadata": {},
   "outputs": [],
   "source": [
    "# Set desired constants\n",
    "K      = 8e-13         # Kernel constant\n",
    "dt_sim = 1e-3          # time step\n",
    "T_sim  = 2             # total time of simulation\n",
    "n_sd   = 2**14         # number of superdroplets\n",
    "N0     = 1e13          # total number of droplets\n",
    "end_step = int(T_sim / dt_sim)\n",
    "k_shape = 0.0817\n",
    "theta = 1.5597\n",
    "\n",
    "# initial distribution\n",
    "#initial_spectrum = Gamma(norm_factor=N0, k=0.0817, theta= 1.5597)\n",
    "initial_spectrum = Gaussian(norm_factor=N0, loc=15, scale=5)\n",
    "attributes = {}\n",
    "attributes['volume'], attributes['n'] =\\\n",
    "    ConstantMultiplicity(spectrum=initial_spectrum).sample(n_sd)\n",
    "\n",
    "from PySDM import Builder\n",
    "from PySDM.environments import Box\n",
    "from PySDM.dynamics import Coalescence\n",
    "from PySDM.dynamics.coalescence.kernels import ConstKern\n",
    "from PySDM.backends import CPU\n",
    "from PySDM.products.state import ParticlesVolumeSpectrum, ParticlesNumberVolumeSpectrum, KthMoment\n",
    "\n",
    "builder = Builder(n_sd=n_sd, backend=CPU)\n",
    "builder.set_environment(Box(dt=dt_sim, dv=1))\n",
    "builder.add_dynamic(Coalescence(kernel=ConstKern(kernel_const = K)))\n",
    "products = [ParticlesVolumeSpectrum(), ParticlesNumberVolumeSpectrum(), KthMoment()]\n",
    "particles = builder.build(attributes, products)"
   ]
  },
  {
   "cell_type": "markdown",
   "metadata": {},
   "source": [
    "## Plot the distribution"
   ]
  },
  {
   "cell_type": "code",
   "execution_count": null,
   "metadata": {},
   "outputs": [
    {
     "name": "stdout",
     "output_type": "stream",
     "text": [
      "9799999995904.0\n"
     ]
    }
   ],
   "source": [
    "from matplotlib import pyplot\n",
    "import numpy as np\n",
    "\n",
    "v_bins_edges = np.linspace((1), (10), num=100)\n",
    "\n",
    "for step in [0, end_step]:\n",
    "    particles.run(step - particles.n_steps)\n",
    "    pyplot.step(x=v_bins_edges[:-1],\n",
    "                y=particles.products['N(v)'].get(v_bins_edges)/particles.products['Mk'].get(0),\n",
    "                where='post', label=f\"t = {step*dt_sim}s\")\n",
    "    print((particles.products['Mk'].get(0)))\n",
    "\n",
    "print(\"Average final particle size: \", particles.products['Mk'].get(1)/particles.products['Mk'].get(0))\n",
    "\n",
    "pyplot.xlabel('mass or volume')\n",
    "pyplot.ylabel(\"N\")\n",
    "pyplot.legend()"
   ]
  },
  {
   "cell_type": "markdown",
   "metadata": {},
   "source": [
    "## Plot the moments, plus analytic moments"
   ]
  },
  {
   "cell_type": "code",
   "execution_count": 50,
   "metadata": {},
   "outputs": [],
   "source": [
    "# Plot the moments over time\n",
    "n_time = 100\n",
    "from PySDM.products.state import KMoments\n",
    "\n",
    "builder = Builder(n_sd=n_sd, backend=CPU)\n",
    "builder.set_environment(Box(dt=dt_sim, dv=1))\n",
    "builder.add_dynamic(Coalescence(kernel=ConstKern(kernel_const = K)))\n",
    "products = [KMoments()]\n",
    "particles = builder.build(attributes, products)\n",
    "\n",
    "k = 3\n",
    "tsteps = range(n_time)\n",
    "Mk = np.zeros((len(tsteps), k))\n",
    "Mk_norm = np.zeros((len(tsteps), k))\n",
    "\n",
    "## PySDM solutions\n",
    "for i, step in enumerate(tsteps):\n",
    "    step = int(end_step*step/(n_time-1))\n",
    "    particles.run(step - particles.n_steps)\n",
    "    Mk[i,:] = (particles.products['M0-Mk'].get(k))\n",
    "    Mk_norm[i,:] = Mk[i,:] / Mk[0,:]"
   ]
  },
  {
   "cell_type": "code",
   "execution_count": 51,
   "metadata": {},
   "outputs": [],
   "source": [
    "# Analytic solutions\n",
    "def const_kern_M012_norm_analytic(M_0, t, a):\n",
    "    M0 = 1/(1/M_0[0] + 1/2*a*t)\n",
    "    M1 = M_0[1]\n",
    "    M2 = M_0[2] + a*M_0[1]**2*t\n",
    "    return [M0/M_0[0], M1/M_0[1], M2/M_0[2]]\n",
    "\n",
    "M_0 = [N0, N0*k_shape*theta, N0*(k_shape+1)*k_shape*theta**2]\n",
    "Mk_norm_analytic = np.zeros((len(tsteps), k))\n",
    "for i, step in enumerate(tsteps):\n",
    "    t = T_sim*step/(n_time-1)\n",
    "    Mk_norm_analytic[i,:] = const_kern_M012_norm_analytic(M_0,t,K)"
   ]
  },
  {
   "cell_type": "code",
   "execution_count": 52,
   "metadata": {},
   "outputs": [
    {
     "name": "stdout",
     "output_type": "stream",
     "text": [
      "initial moments:  [9.80000000e+12 9.34909685e+11 8.47511812e+11]\n",
      "final moments:  [1.10297851e+12 9.34909685e+11 2.21204593e+12]\n"
     ]
    },
    {
     "data": {
      "image/png": "[encoded data removed]",
      "text/plain": [
       "<Figure size 432x288 with 1 Axes>"
      ]
     },
     "metadata": {
      "needs_background": "light"
     },
     "output_type": "display_data"
    }
   ],
   "source": [
    "j=0\n",
    "pyplot.plot([t/(n_time-1)*T_sim for t in tsteps], Mk_norm[:,j], label=f\"M_{j}\")\n",
    "pyplot.plot([t/(n_time-1)*T_sim for t in tsteps], Mk_norm_analytic[:,j], label=f\"M_{j} analytic\")\n",
    "    \n",
    "pyplot.xlabel(\"time\")\n",
    "pyplot.ylabel(\"M_k(t)/M_k(0)\")\n",
    "pyplot.legend()\n",
    "\n",
    "print(\"initial moments: \", Mk[0,:])\n",
    "print(\"final moments: \", Mk[-1,:])"
   ]
  },
  {
   "cell_type": "code",
   "execution_count": 53,
   "metadata": {},
   "outputs": [
    {
     "name": "stdout",
     "output_type": "stream",
     "text": [
      "initial moments:  [9.80000000e+12 9.34909685e+11 8.47511812e+11]\n",
      "final moments:  [1.10297851e+12 9.34909685e+11 2.21204593e+12]\n"
     ]
    },
    {
     "data": {
      "image/png": "[encoded data removed]",
      "text/plain": [
       "<Figure size 432x288 with 1 Axes>"
      ]
     },
     "metadata": {
      "needs_background": "light"
     },
     "output_type": "display_data"
    }
   ],
   "source": [
    "j=1\n",
    "pyplot.plot([t/(n_time-1)*T_sim for t in tsteps], Mk_norm[:,j], label=f\"M_{j}\")\n",
    "pyplot.plot([t/(n_time-1)*T_sim for t in tsteps], Mk_norm_analytic[:,j], label=f\"M_{j} analytic\")\n",
    "    \n",
    "pyplot.xlabel(\"time\")\n",
    "pyplot.ylabel(\"M_k(t)/M_k(0)\")\n",
    "pyplot.legend()\n",
    "\n",
    "print(\"initial moments: \", Mk[0,:])\n",
    "print(\"final moments: \", Mk[-1,:])"
   ]
  },
  {
   "cell_type": "code",
   "execution_count": 54,
   "metadata": {},
   "outputs": [
    {
     "name": "stdout",
     "output_type": "stream",
     "text": [
      "initial moments:  [9.80000000e+12 9.34909685e+11 8.47511812e+11]\n",
      "final moments:  [1.10297851e+12 9.34909685e+11 2.21204593e+12]\n"
     ]
    },
    {
     "data": {
      "image/png": "[encoded data removed]",
      "text/plain": [
       "<Figure size 432x288 with 1 Axes>"
      ]
     },
     "metadata": {
      "needs_background": "light"
     },
     "output_type": "display_data"
    }
   ],
   "source": [
    "j=2\n",
    "pyplot.plot([t/(n_time-1)*T_sim for t in tsteps], Mk_norm[:,j], label=f\"M_{j}\")\n",
    "pyplot.plot([t/(n_time-1)*T_sim for t in tsteps], Mk_norm_analytic[:,j], label=f\"M_{j} analytic\")\n",
    "    \n",
    "pyplot.xlabel(\"time\")\n",
    "pyplot.ylabel(\"M_k(t)/M_k(0)\")\n",
    "pyplot.legend()\n",
    "\n",
    "print(\"initial moments: \", Mk[0,:])\n",
    "print(\"final moments: \", Mk[-1,:])"
   ]
  },
  {
   "cell_type": "code",
   "execution_count": null,
   "metadata": {},
   "outputs": [],
   "source": []
  }
 ],
 "metadata": {
  "kernelspec": {
   "display_name": "Python 3",
   "language": "python",
   "name": "python3"
  },
  "language_info": {
   "codemirror_mode": {
    "name": "ipython",
    "version": 3
   },
   "file_extension": ".py",
   "mimetype": "text/x-python",
   "name": "python",
   "nbconvert_exporter": "python",
   "pygments_lexer": "ipython3",
   "version": "3.8.5"
  }
 },
 "nbformat": 4,
 "nbformat_minor": 4
}
