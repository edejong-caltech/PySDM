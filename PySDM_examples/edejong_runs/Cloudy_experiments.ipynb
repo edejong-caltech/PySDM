{
 "cells": [
  {
   "cell_type": "markdown",
   "metadata": {},
   "source": [
    "# Superdroplet experiments for Cloudy CES & Comparison\n",
    "Box model setup with collision coalescence only. Given user-defined initial condition and kernel."
   ]
  },
  {
   "cell_type": "code",
   "execution_count": 1,
   "metadata": {},
   "outputs": [
    {
     "name": "stderr",
     "output_type": "stream",
     "text": [
      "/home/edejong/.conda/envs/edjPySDM/lib/python3.8/site-packages/numba/np/ufunc/parallel.py:355: NumbaWarning: \u001b[1mThe TBB threading layer requires TBB version 2019.5 or later i.e., TBB_INTERFACE_VERSION >= 11005. Found TBB_INTERFACE_VERSION = 6103. The TBB threading layer is disabled.\u001b[0m\n",
      "  warnings.warn(problem)\n"
     ]
    }
   ],
   "source": [
    "import sys, os\n",
    "sys.path.append(os.path.join(os.getcwd(), '../..'))\n",
    "\n",
    "from PySDM.physics import si\n",
    "from PySDM.physics.formulae import volume"
   ]
  },
  {
   "cell_type": "markdown",
   "metadata": {},
   "source": [
    "## 1. Linear Kernel, gamma distribution"
   ]
  },
  {
   "cell_type": "code",
   "execution_count": 2,
   "metadata": {},
   "outputs": [
    {
     "data": {
      "text/plain": [
       "<matplotlib.legend.Legend at 0x7fc15013e340>"
      ]
     },
     "execution_count": 2,
     "metadata": {},
     "output_type": "execute_result"
    },
    {
     "data": {
      "image/png": "[encoded data removed]",
      "text/plain": [
       "<Figure size 432x288 with 1 Axes>"
      ]
     },
     "metadata": {
      "needs_background": "light"
     },
     "output_type": "display_data"
    }
   ],
   "source": [
    "from PySDM.initialisation.spectral_sampling import ConstantMultiplicity\n",
    "from PySDM.initialisation.spectra import Gamma\n",
    "\n",
    "n_sd = 2**18\n",
    "initial_spectrum = Gamma(norm_factor=8.39e12, k=0.0817, theta= 1.5597 * si.um**3)\n",
    "attributes = {}\n",
    "attributes['volume'], attributes['n'] =\\\n",
    "    ConstantMultiplicity(spectrum=initial_spectrum).sample(n_sd)\n",
    "kernel_b = 1/3.14/4 / si.um**3 / si.s\n",
    "\n",
    "from PySDM import Builder\n",
    "from PySDM.environments import Box\n",
    "from PySDM.dynamics import Coalescence\n",
    "from PySDM.dynamics.coalescence.kernels import Golovin\n",
    "from PySDM.backends import CPU\n",
    "from PySDM.products.state import ParticlesNumberVolumeSpectrum, KthMoment\n",
    "\n",
    "builder = Builder(n_sd=n_sd, backend=CPU)\n",
    "builder.set_environment(Box(dt=1 * si.s, dv=1))\n",
    "builder.add_dynamic(Coalescence(kernel=Golovin(b = kernel_b)))\n",
    "products = [ParticlesNumberVolumeSpectrum(), KthMoment()]\n",
    "particles = builder.build(attributes, products)\n",
    "\n",
    "from PySDM.physics.constants import rho_w\n",
    "from matplotlib import pyplot\n",
    "import numpy as np\n",
    "from scipy import stats\n",
    "\n",
    "v_bins_edges = np.logspace(np.log10(0.001 * si.um**3), np.log10(10.0 * si.um**3), num=256)\n",
    "\n",
    "plot_opt = \"hist\"\n",
    "\n",
    "for step in [0, 1]:\n",
    "    particles.run(step - particles.n_steps)\n",
    "    if (plot_opt == \"kde\"):\n",
    "        final_counts = particles.products['N(v)'].get(v_bins_edges)\n",
    "        n_drop_final = int(particles.products['Mk'].get(0))\n",
    "\n",
    "        kde_pts = particles.particles.get_extensive_attrs().to_ndarray() / si.um**3\n",
    "        kde = stats.gaussian_kde(kde_pts[0])\n",
    "\n",
    "        x = np.linspace(0, 1.0, 100)\n",
    "        y = kde(x)\n",
    "        pyplot.plot(x ,y, label=f\"t = {step}s\")\n",
    "    elif (plot_opt == \"hist\"):\n",
    "        pyplot.xscale('log')\n",
    "        pyplot.step(x=v_bins_edges[:-1] / si.um**3,\n",
    "                y=particles.products['N(v)'].get(v_bins_edges),\n",
    "                where='post', label=f\"t = {step}s\")\n",
    "               \n",
    "pyplot.xlabel('mass or volume')\n",
    "pyplot.ylabel(\"N\")\n",
    "pyplot.legend()"
   ]
  },
  {
   "cell_type": "markdown",
   "metadata": {},
   "source": [
    "## Extract the moments"
   ]
  },
  {
   "cell_type": "code",
   "execution_count": 3,
   "metadata": {},
   "outputs": [
    {
     "name": "stdout",
     "output_type": "stream",
     "text": [
      "Mk\n",
      "[[8.22220004e+12 7.84389363e+11 7.11063007e+11]\n",
      " [4.14713864e+12 7.84389363e+11 7.87633629e+11]]\n",
      "Mk_norm\n",
      "[[1.         0.09539896 0.08648087]\n",
      " [0.50438309 0.09539896 0.09579354]]\n"
     ]
    }
   ],
   "source": [
    "# Plot the moments over time\n",
    "from PySDM.products.state import KMoments\n",
    "\n",
    "builder = Builder(n_sd=n_sd, backend=CPU)\n",
    "builder.set_environment(Box(dt=1 * si.s, dv=1))\n",
    "builder.add_dynamic(Coalescence(kernel=Golovin(b = kernel_b)))\n",
    "products = [ParticlesNumberVolumeSpectrum(), KMoments()]\n",
    "particles = builder.build(attributes, products)\n",
    "\n",
    "tsteps = [0, 1]\n",
    "k = 3\n",
    "Mk = np.zeros((len(tsteps), k))\n",
    "Mk_norm = np.zeros((len(tsteps), k))\n",
    "\n",
    "for i, step in enumerate(tsteps):\n",
    "    particles.run(step - particles.n_steps)\n",
    "    Mk[i,:] = (particles.products['M0-Mk'].get(k))\n",
    "    \n",
    "    \n",
    "# convert back to \"dimensionless\"\n",
    "for i in range(k):\n",
    "    Mk[:,i] = Mk[:,i] / si.um**(3*i)\n",
    "\n",
    "Mk_norm = Mk/Mk[0,0]\n",
    "\n",
    "print(\"Mk\")\n",
    "print(Mk)\n",
    "print(\"Mk_norm\")\n",
    "print(Mk_norm)"
   ]
  },
  {
   "cell_type": "markdown",
   "metadata": {},
   "source": [
    "## Do they eventually become one mega-SD?"
   ]
  },
  {
   "cell_type": "markdown",
   "metadata": {},
   "source": [
    "Answer: yes"
   ]
  },
  {
   "cell_type": "code",
   "execution_count": 4,
   "metadata": {},
   "outputs": [
    {
     "name": "stdout",
     "output_type": "stream",
     "text": [
      "[[8.22220004e+12 7.84389363e-07]\n",
      " [2.05638119e+12 7.84389363e-07]\n",
      " [5.13887535e+11 7.84389363e-07]\n",
      " [5.69504501e+10 7.84389363e-07]\n",
      " [1.68249056e+09 7.84389363e-07]\n",
      " [6.86503000e+05 7.84389363e-07]\n",
      " [3.16400000e+03 7.84389363e-07]\n",
      " [7.91000000e+02 7.84389363e-07]\n",
      " [1.98000000e+02 7.84389363e-07]\n",
      " [5.00000000e+01 7.84389363e-07]\n",
      " [1.30000000e+01 7.84389363e-07]\n",
      " [4.00000000e+00 7.84389363e-07]\n",
      " [1.00000000e+00 7.84389363e-07]]\n"
     ]
    },
    {
     "data": {
      "image/png": "[encoded data removed]",
      "text/plain": [
       "<Figure size 432x288 with 1 Axes>"
      ]
     },
     "metadata": {
      "needs_background": "light"
     },
     "output_type": "display_data"
    }
   ],
   "source": [
    "from PySDM.products.state import KMoments\n",
    "n_sd = 2**18\n",
    "builder = Builder(n_sd=n_sd, backend=CPU)\n",
    "builder.set_environment(Box(dt=1 * si.s, dv=1))\n",
    "builder.add_dynamic(Coalescence(kernel=Golovin(b = kernel_b)))\n",
    "products = [ParticlesNumberVolumeSpectrum(), KMoments()]\n",
    "attributes = {}\n",
    "attributes['volume'], attributes['n'] =\\\n",
    "    ConstantMultiplicity(spectrum=initial_spectrum).sample(n_sd)\n",
    "particles = builder.build(attributes, products)\n",
    "\n",
    "tsteps = [0, 2, 4, 6, 8, 10, 12, 14, 16, 18, 20, 22, 24]\n",
    "k = 2\n",
    "Mk = np.zeros((len(tsteps), k))\n",
    "\n",
    "for i, step in enumerate(tsteps):\n",
    "    particles.run(step - particles.n_steps)\n",
    "    Mk[i,:] = (particles.products['M0-Mk'].get(k))\n",
    "    \n",
    "pyplot.scatter(tsteps, Mk[:,0])\n",
    "print(Mk)"
   ]
  },
  {
   "cell_type": "code",
   "execution_count": null,
   "metadata": {},
   "outputs": [],
   "source": []
  },
  {
   "cell_type": "code",
   "execution_count": null,
   "metadata": {},
   "outputs": [],
   "source": []
  }
 ],
 "metadata": {
  "kernelspec": {
   "display_name": "Python 3",
   "language": "python",
   "name": "python3"
  },
  "language_info": {
   "codemirror_mode": {
    "name": "ipython",
    "version": 3
   },
   "file_extension": ".py",
   "mimetype": "text/x-python",
   "name": "python",
   "nbconvert_exporter": "python",
   "pygments_lexer": "ipython3",
   "version": "3.8.5"
  }
 },
 "nbformat": 4,
 "nbformat_minor": 4
}
